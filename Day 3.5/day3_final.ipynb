{
 "cells": [
  {
   "cell_type": "markdown",
   "id": "c11517e8",
   "metadata": {},
   "source": [
    "# Python Data Structures - Practice Problems\n",
    "This notebook provides detailed problem statements covering lists, tuples, sets, and dictionaries, suitable for a 2.5-hour live coding session."
   ]
  },
  {
   "cell_type": "markdown",
   "id": "c46a3583",
   "metadata": {},
   "source": [
    "\n",
    "## 🧱 Basic Building Blocks of Python Data Structures\n",
    "\n",
    "Below are the most commonly used **built-in functions and methods** for each core data structure: `List`, `Tuple`, `Set`, and `Dictionary`.\n"
   ]
  },
  {
   "cell_type": "code",
   "execution_count": 1,
   "id": "26b36c80-4d92-45b8-bb10-c539f6408db3",
   "metadata": {},
   "outputs": [
    {
     "name": "stdout",
     "output_type": "stream",
     "text": [
      "[2, 1, 5, 9, 8]\n"
     ]
    }
   ],
   "source": [
    "a = [2,1,5,9,8]\n",
    "print(a)"
   ]
  },
  {
   "cell_type": "code",
   "execution_count": 2,
   "id": "f8143056-5099-44fc-a745-95d53275aa58",
   "metadata": {},
   "outputs": [
    {
     "name": "stdout",
     "output_type": "stream",
     "text": [
      "2\n",
      "5\n",
      "8\n"
     ]
    }
   ],
   "source": [
    "print(a[0])\n",
    "print(a[2])\n",
    "print(a[4])"
   ]
  },
  {
   "cell_type": "code",
   "execution_count": 3,
   "id": "25425c18-0e3b-42ef-8679-115bb53cb910",
   "metadata": {},
   "outputs": [
    {
     "name": "stdout",
     "output_type": "stream",
     "text": [
      "2\n",
      "1\n",
      "5\n",
      "9\n",
      "8\n"
     ]
    }
   ],
   "source": [
    "for i in a:\n",
    "    print(i)"
   ]
  },
  {
   "cell_type": "code",
   "execution_count": null,
   "id": "c05b7388-06ae-46fe-89fb-d3bf36e96db3",
   "metadata": {},
   "outputs": [],
   "source": []
  },
  {
   "cell_type": "code",
   "execution_count": null,
   "id": "a875171c-dcb0-4949-8eee-1cb3e82f411f",
   "metadata": {},
   "outputs": [],
   "source": []
  },
  {
   "cell_type": "code",
   "execution_count": null,
   "id": "dd5272b5-f94e-4ca6-b439-c42314d00926",
   "metadata": {},
   "outputs": [],
   "source": []
  },
  {
   "cell_type": "markdown",
   "id": "1b95a5e7",
   "metadata": {},
   "source": [
    "\n",
    "### 🔹 List – Built-in Methods and Operations\n",
    "- `append(x)`: Add an item to the end\n",
    "- `extend(iterable)`: Extend list by appending elements\n",
    "- `insert(i, x)`: Insert at a given position\n",
    "- `remove(x)`: Remove first occurrence of x\n",
    "- `pop([i])`: Remove and return item at index\n",
    "- `clear()`: Remove all items\n",
    "- `index(x)`: Return first index of x\n",
    "- `count(x)`: Count occurrences\n",
    "- `sort()`, `sorted(list)`: Sort list\n",
    "- `reverse()`: Reverse the list\n",
    "- `copy()`: Return a shallow copy\n"
   ]
  },
  {
   "cell_type": "code",
   "execution_count": 14,
   "id": "555d5b3d-a1a1-400f-ba4b-91c1906064f9",
   "metadata": {},
   "outputs": [
    {
     "name": "stdout",
     "output_type": "stream",
     "text": [
      "['apple', 'banana', 'Orange']\n"
     ]
    }
   ],
   "source": [
    "fruits = [\"apple\", \"banana\"]\n",
    "fruits.append(\"Orange\")\n",
    "print(fruits)"
   ]
  },
  {
   "cell_type": "code",
   "execution_count": 6,
   "id": "a6d40019-c22d-48d5-bbab-94d9084ee91e",
   "metadata": {},
   "outputs": [
    {
     "name": "stdout",
     "output_type": "stream",
     "text": [
      "['apple', 'banana', 'Orange', 'Melon', 'Mango']\n"
     ]
    }
   ],
   "source": [
    "fruits.extend(['Melon', 'Mango'])\n",
    "print(fruits)"
   ]
  },
  {
   "cell_type": "code",
   "execution_count": 12,
   "id": "4c8f45e4-7413-46fe-908e-07fc46dc6cbf",
   "metadata": {},
   "outputs": [
    {
     "name": "stdout",
     "output_type": "stream",
     "text": [
      "['apple', ['Kiwi', 'Kawa'], 'banana', 'Orange']\n"
     ]
    }
   ],
   "source": [
    "fruits.insert(1,['Kiwi','Kawa'])\n",
    "print(fruits)"
   ]
  },
  {
   "cell_type": "code",
   "execution_count": 8,
   "id": "c8cc2882-1a9b-4f3f-bc8f-911ba35138dd",
   "metadata": {},
   "outputs": [
    {
     "name": "stdout",
     "output_type": "stream",
     "text": [
      "['apple', 'banana', 'Orange', 'Melon', 'Mango']\n"
     ]
    }
   ],
   "source": [
    "fruits.remove(\"Kiwi\")\n",
    "print(fruits)"
   ]
  },
  {
   "cell_type": "code",
   "execution_count": 9,
   "id": "78c2c12b-249b-4989-bcc2-c19b630c08bf",
   "metadata": {},
   "outputs": [
    {
     "name": "stdout",
     "output_type": "stream",
     "text": [
      "banana\n",
      "['apple', 'Orange', 'Melon', 'Mango']\n"
     ]
    }
   ],
   "source": [
    "a=fruits.pop(1)\n",
    "print(a)\n",
    "print(fruits)"
   ]
  },
  {
   "cell_type": "code",
   "execution_count": 13,
   "id": "d7196b11-20b4-4862-9473-57d8e34c174e",
   "metadata": {},
   "outputs": [
    {
     "name": "stdout",
     "output_type": "stream",
     "text": [
      "[]\n"
     ]
    }
   ],
   "source": [
    "fruits.clear()\n",
    "print(fruits)"
   ]
  },
  {
   "cell_type": "code",
   "execution_count": 16,
   "id": "a07008e7-2784-4edb-83dd-39f028f2afda",
   "metadata": {},
   "outputs": [
    {
     "name": "stdout",
     "output_type": "stream",
     "text": [
      "2\n"
     ]
    }
   ],
   "source": [
    "print(fruits.index(\"Orange\"))\n"
   ]
  },
  {
   "cell_type": "code",
   "execution_count": 17,
   "id": "139d596f-76a4-45ac-9552-1be33e174157",
   "metadata": {},
   "outputs": [
    {
     "name": "stdout",
     "output_type": "stream",
     "text": [
      "['apple', 'banana', 'Orange', 'Orange']\n"
     ]
    }
   ],
   "source": [
    "fruits.append(\"Orange\")\n",
    "print(fruits)"
   ]
  },
  {
   "cell_type": "code",
   "execution_count": 19,
   "id": "48f7cf0d-7fbb-4b6b-802f-82dad79913b9",
   "metadata": {},
   "outputs": [
    {
     "data": {
      "text/plain": [
       "2"
      ]
     },
     "execution_count": 19,
     "metadata": {},
     "output_type": "execute_result"
    }
   ],
   "source": [
    "fruits.count('Orange')"
   ]
  },
  {
   "cell_type": "code",
   "execution_count": 20,
   "id": "d800c715-2420-4858-b123-7561de932eb4",
   "metadata": {},
   "outputs": [
    {
     "name": "stdout",
     "output_type": "stream",
     "text": [
      "[0, 4, 8, 10, 56, 96]\n"
     ]
    }
   ],
   "source": [
    "number = [10,4,96,0,8,56]\n",
    "number.sort()\n",
    "print(number)"
   ]
  },
  {
   "cell_type": "code",
   "execution_count": 23,
   "id": "76ead617-3cf0-4c18-8f5d-f5c008a906e4",
   "metadata": {},
   "outputs": [
    {
     "data": {
      "text/plain": [
       "[0, 4, 8, 10, 56, 96]"
      ]
     },
     "execution_count": 23,
     "metadata": {},
     "output_type": "execute_result"
    }
   ],
   "source": [
    "sorted(number)"
   ]
  },
  {
   "cell_type": "code",
   "execution_count": 30,
   "id": "8606cd84-65ca-404e-a856-1b11af36cdd4",
   "metadata": {},
   "outputs": [
    {
     "name": "stdout",
     "output_type": "stream",
     "text": [
      "[0, 4, 8, 10, 56, 96]\n"
     ]
    }
   ],
   "source": [
    "number.reverse()\n",
    "print(number)"
   ]
  },
  {
   "cell_type": "code",
   "execution_count": 36,
   "id": "7dcb0587-86e8-4718-a8c3-28e81b10621d",
   "metadata": {},
   "outputs": [
    {
     "name": "stdout",
     "output_type": "stream",
     "text": [
      "Original :  [1, 2, 3]\n",
      "Copy :  [1, 2, 3]\n"
     ]
    }
   ],
   "source": [
    "original = [1,2,3]\n",
    "copy = original.copy()\n",
    "print(\"Original : \",original)\n",
    "print(\"Copy : \",copy)"
   ]
  },
  {
   "cell_type": "code",
   "execution_count": 37,
   "id": "32cc01f9-04a7-45de-8551-834f0ae168df",
   "metadata": {},
   "outputs": [],
   "source": [
    "original.append(4)"
   ]
  },
  {
   "cell_type": "code",
   "execution_count": 38,
   "id": "6ca7de42-95d2-4714-8344-6ca07dc8896a",
   "metadata": {},
   "outputs": [
    {
     "name": "stdout",
     "output_type": "stream",
     "text": [
      "Original :  [1, 2, 3, 4]\n",
      "Copy :  [1, 2, 3]\n"
     ]
    }
   ],
   "source": [
    "print(\"Original : \",original)\n",
    "print(\"Copy : \",copy)"
   ]
  },
  {
   "cell_type": "code",
   "execution_count": null,
   "id": "98616510-b824-43da-ba24-ff7cc54fdfde",
   "metadata": {},
   "outputs": [],
   "source": []
  },
  {
   "cell_type": "markdown",
   "id": "6e0670c3",
   "metadata": {},
   "source": [
    "\n",
    "### 🔹 Tuple – Built-in Functions and Properties\n",
    "- Immutable version of a list\n",
    "- `count(x)`: Count occurrences of value\n",
    "- `index(x)`: Return first index of value\n",
    "- Can be used as keys in dictionaries\n",
    "- Support slicing and indexing like lists\n"
   ]
  },
  {
   "cell_type": "code",
   "execution_count": 39,
   "id": "73830661-51fe-485f-93b1-0457027b4b45",
   "metadata": {},
   "outputs": [],
   "source": [
    "a = (2,4,6,3,7)"
   ]
  },
  {
   "cell_type": "code",
   "execution_count": 40,
   "id": "9f1cd25f-69ac-4dac-ab07-67a564b6a199",
   "metadata": {},
   "outputs": [
    {
     "name": "stdout",
     "output_type": "stream",
     "text": [
      "<class 'tuple'>\n"
     ]
    }
   ],
   "source": [
    "print(type(a))"
   ]
  },
  {
   "cell_type": "code",
   "execution_count": 42,
   "id": "84ce4e10-c8af-443a-b61f-6b1d81e504ba",
   "metadata": {},
   "outputs": [
    {
     "ename": "AttributeError",
     "evalue": "'tuple' object has no attribute 'remove'",
     "output_type": "error",
     "traceback": [
      "\u001b[0;31m---------------------------------------------------------------------------\u001b[0m",
      "\u001b[0;31mAttributeError\u001b[0m                            Traceback (most recent call last)",
      "Cell \u001b[0;32mIn[42], line 1\u001b[0m\n\u001b[0;32m----> 1\u001b[0m a\u001b[38;5;241m.\u001b[39mremove(\u001b[38;5;241m6\u001b[39m)\n",
      "\u001b[0;31mAttributeError\u001b[0m: 'tuple' object has no attribute 'remove'"
     ]
    }
   ],
   "source": [
    "a.remove(6)"
   ]
  },
  {
   "cell_type": "code",
   "execution_count": 43,
   "id": "68b736a0-5444-430c-bf30-f17754f73031",
   "metadata": {},
   "outputs": [
    {
     "name": "stdout",
     "output_type": "stream",
     "text": [
      "List: [2, 4, 6]\n",
      "List: [2, 10, 6]\n"
     ]
    }
   ],
   "source": [
    "a = [2,4,6]\n",
    "print(\"List:\",a)\n",
    "a[1]=10\n",
    "print(\"List:\",a)"
   ]
  },
  {
   "cell_type": "code",
   "execution_count": 44,
   "id": "712f0fb3-6f6a-4097-9554-ddbcc6672da5",
   "metadata": {},
   "outputs": [
    {
     "name": "stdout",
     "output_type": "stream",
     "text": [
      "Tuple: (2, 4, 6)\n"
     ]
    },
    {
     "ename": "TypeError",
     "evalue": "'tuple' object does not support item assignment",
     "output_type": "error",
     "traceback": [
      "\u001b[0;31m---------------------------------------------------------------------------\u001b[0m",
      "\u001b[0;31mTypeError\u001b[0m                                 Traceback (most recent call last)",
      "Cell \u001b[0;32mIn[44], line 3\u001b[0m\n\u001b[1;32m      1\u001b[0m a \u001b[38;5;241m=\u001b[39m (\u001b[38;5;241m2\u001b[39m,\u001b[38;5;241m4\u001b[39m,\u001b[38;5;241m6\u001b[39m)\n\u001b[1;32m      2\u001b[0m \u001b[38;5;28mprint\u001b[39m(\u001b[38;5;124m\"\u001b[39m\u001b[38;5;124mTuple:\u001b[39m\u001b[38;5;124m\"\u001b[39m,a)\n\u001b[0;32m----> 3\u001b[0m a[\u001b[38;5;241m1\u001b[39m]\u001b[38;5;241m=\u001b[39m\u001b[38;5;241m10\u001b[39m\n\u001b[1;32m      4\u001b[0m \u001b[38;5;28mprint\u001b[39m(\u001b[38;5;124m\"\u001b[39m\u001b[38;5;124mTuple:\u001b[39m\u001b[38;5;124m\"\u001b[39m,a)\n",
      "\u001b[0;31mTypeError\u001b[0m: 'tuple' object does not support item assignment"
     ]
    }
   ],
   "source": [
    "a = (2,4,6)\n",
    "print(\"Tuple:\",a)\n",
    "a[1]=10\n",
    "print(\"Tuple:\",a)"
   ]
  },
  {
   "cell_type": "code",
   "execution_count": 47,
   "id": "0377c111-70a2-4302-a732-9bf021604f79",
   "metadata": {},
   "outputs": [
    {
     "name": "stdout",
     "output_type": "stream",
     "text": [
      "[1, 2, 3, 4, 5]\n",
      "[1, 2, 300, 4, 5]\n",
      "(1, 2, 300, 4, 5)\n"
     ]
    }
   ],
   "source": [
    "a = (1,2,3,4,5)\n",
    "b = list(a)\n",
    "print(b)\n",
    "b[2] = 300\n",
    "print(b)\n",
    "a = tuple(b)\n",
    "print(a)"
   ]
  },
  {
   "cell_type": "code",
   "execution_count": null,
   "id": "10aaa81f-f282-46ef-9779-0a829fd7aa10",
   "metadata": {},
   "outputs": [],
   "source": []
  },
  {
   "cell_type": "markdown",
   "id": "877bf426",
   "metadata": {},
   "source": [
    "\n",
    "### 🔹 Set – Built-in Methods\n",
    "- `add(x)`: Add element\n",
    "- `remove(x)`, `discard(x)`: Remove element\n",
    "- `pop()`: Remove and return arbitrary element\n",
    "- `clear()`: Remove all elements\n",
    "- `union(set2)`: Set union\n",
    "- `intersection(set2)`: Set intersection\n",
    "- `difference(set2)`: Set difference\n",
    "- `issubset(set2)`, `issuperset(set2)`\n"
   ]
  },
  {
   "cell_type": "code",
   "execution_count": 48,
   "id": "2f6b36c3-9ee9-403b-a3aa-6d63bbff8ccf",
   "metadata": {},
   "outputs": [
    {
     "name": "stdout",
     "output_type": "stream",
     "text": [
      "<class 'set'>\n"
     ]
    }
   ],
   "source": [
    "s ={1,2,3}\n",
    "print(type(s))"
   ]
  },
  {
   "cell_type": "code",
   "execution_count": 49,
   "id": "871994e9-c8e8-49a9-b591-97948eba4034",
   "metadata": {},
   "outputs": [
    {
     "name": "stdout",
     "output_type": "stream",
     "text": [
      "{1, 2, 3, 4}\n"
     ]
    }
   ],
   "source": [
    "s.add(4)\n",
    "print(s)"
   ]
  },
  {
   "cell_type": "code",
   "execution_count": 50,
   "id": "af8fbc7a-41c2-455e-ba31-ba05724a238f",
   "metadata": {},
   "outputs": [
    {
     "name": "stdout",
     "output_type": "stream",
     "text": [
      "{1, 2, 3, 4}\n"
     ]
    }
   ],
   "source": [
    "s.add(4)\n",
    "print(s)"
   ]
  },
  {
   "cell_type": "code",
   "execution_count": 51,
   "id": "d95ff844-5c94-44fa-ace1-e02cf954d035",
   "metadata": {},
   "outputs": [
    {
     "name": "stdout",
     "output_type": "stream",
     "text": [
      "{1, 2, 3}\n"
     ]
    }
   ],
   "source": [
    "s.remove(4)\n",
    "print(s)"
   ]
  },
  {
   "cell_type": "code",
   "execution_count": 52,
   "id": "36881530-713f-4aa1-a9db-af4758602aab",
   "metadata": {},
   "outputs": [
    {
     "name": "stdout",
     "output_type": "stream",
     "text": [
      "{2, 3}\n"
     ]
    }
   ],
   "source": [
    "s.discard(1)\n",
    "print(s)"
   ]
  },
  {
   "cell_type": "code",
   "execution_count": 58,
   "id": "0b79cc2c-0f97-4e34-b586-42dea50aac1d",
   "metadata": {},
   "outputs": [
    {
     "name": "stdout",
     "output_type": "stream",
     "text": [
      "Union :  {1, 2, 3, 4, 5}\n",
      "Intersection : {3}\n",
      "Difference : {1, 2}\n",
      "Difference : {4, 5}\n"
     ]
    }
   ],
   "source": [
    "a = {1,2,3}\n",
    "b = {3,4,5}\n",
    "\n",
    "print(\"Union : \",a.union(b))\n",
    "print(\"Intersection :\",a.intersection(b))\n",
    "print(\"Difference :\", a.difference(b))\n",
    "print(\"Difference :\", b.difference(a))"
   ]
  },
  {
   "cell_type": "code",
   "execution_count": 61,
   "id": "f5a2bd22-bbfa-458b-ab52-972e30f1ffc3",
   "metadata": {},
   "outputs": [
    {
     "name": "stdout",
     "output_type": "stream",
     "text": [
      "Superset :  True\n",
      "Subset :  False\n"
     ]
    }
   ],
   "source": [
    "set_1 = {1,2,3,4,5}\n",
    "set_2 = {3,4}\n",
    "print(\"Superset : \",set_1.issuperset(set_2))\n",
    "print(\"Subset : \" ,set_1.issubset(set_2))"
   ]
  },
  {
   "cell_type": "code",
   "execution_count": null,
   "id": "19d73e53-a57b-47f4-8fc5-a55a08694cf7",
   "metadata": {},
   "outputs": [],
   "source": []
  },
  {
   "cell_type": "code",
   "execution_count": null,
   "id": "064774d1-f617-4ca9-a3e2-8c80f5decb84",
   "metadata": {},
   "outputs": [],
   "source": []
  },
  {
   "cell_type": "markdown",
   "id": "6ec8f6b2",
   "metadata": {},
   "source": [
    "\n",
    "### 🔹 Dictionary – Built-in Methods\n",
    "- `dict[key] = value`: Add or update value\n",
    "- `get(key)`: Get value safely\n",
    "- `keys()`, `values()`, `items()`\n",
    "- `pop(key)`: Remove and return item\n",
    "- `popitem()`: Remove last inserted pair\n",
    "- `update(other_dict)`: Merge dictionaries\n",
    "- `clear()`: Remove all items\n",
    "- Dictionary comprehension: `{k: v for k, v in iterable}`\n"
   ]
  },
  {
   "cell_type": "code",
   "execution_count": 67,
   "id": "0b63992c-3e1b-4a0d-8e36-29dffa7acf1b",
   "metadata": {},
   "outputs": [
    {
     "name": "stdout",
     "output_type": "stream",
     "text": [
      "{'Name': 'Alice', 'age': 30, 'class': 12}\n"
     ]
    }
   ],
   "source": [
    "person = {}\n",
    "person[\"Name\"] = \"Alice\"\n",
    "person[\"age\"] = 30\n",
    "person[\"class\"] = 12\n",
    "print(person)"
   ]
  },
  {
   "cell_type": "code",
   "execution_count": 64,
   "id": "21ee5d76-58c3-4bce-bd28-1b7eee02b0cf",
   "metadata": {},
   "outputs": [
    {
     "name": "stdout",
     "output_type": "stream",
     "text": [
      "Keys :  dict_keys(['Name', 'age'])\n",
      "Values :  dict_values(['Alice', 30])\n",
      "Items :  dict_items([('Name', 'Alice'), ('age', 30)])\n"
     ]
    }
   ],
   "source": [
    "print(\"Keys : \",person.keys())\n",
    "print(\"Values : \", person.values())\n",
    "print(\"Items : \", person.items())"
   ]
  },
  {
   "cell_type": "code",
   "execution_count": 66,
   "id": "612e3e81-61c1-40b2-a5d2-64758b7836c5",
   "metadata": {},
   "outputs": [
    {
     "name": "stdout",
     "output_type": "stream",
     "text": [
      "30\n",
      "{'Name': 'Alice'}\n"
     ]
    }
   ],
   "source": [
    "a = person.pop(\"age\")\n",
    "print(a)\n",
    "print(person)"
   ]
  },
  {
   "cell_type": "code",
   "execution_count": 68,
   "id": "820bbd86-f4b7-4a4f-9624-ff4cd453b92d",
   "metadata": {},
   "outputs": [
    {
     "name": "stdout",
     "output_type": "stream",
     "text": [
      "{'Name': 'Alice', 'age': 30}\n"
     ]
    }
   ],
   "source": [
    "person.popitem()\n",
    "print(person)"
   ]
  },
  {
   "cell_type": "code",
   "execution_count": 69,
   "id": "e622a37b-71a1-42b2-9db0-1236a1c627f6",
   "metadata": {},
   "outputs": [
    {
     "name": "stdout",
     "output_type": "stream",
     "text": [
      "Dict 1 :  {'Name': 'Alice'}\n",
      "Dict 2 :  {'Age': 30, 'Hobby': 'Singing'}\n"
     ]
    }
   ],
   "source": [
    "dict_1 = {\"Name\":\"Alice\"}\n",
    "dict_2 = {\"Age\":30, \"Hobby\":\"Singing\"}\n",
    "print(\"Dict 1 : \",dict_1)\n",
    "print(\"Dict 2 : \", dict_2)\n"
   ]
  },
  {
   "cell_type": "code",
   "execution_count": 70,
   "id": "0a45c2a0-b9ae-423a-a684-6f03b6e717e1",
   "metadata": {},
   "outputs": [],
   "source": [
    "dict_1.update(dict_2)"
   ]
  },
  {
   "cell_type": "code",
   "execution_count": 71,
   "id": "ed33ec83-de5c-4af7-9339-3db31c2c9da5",
   "metadata": {},
   "outputs": [
    {
     "name": "stdout",
     "output_type": "stream",
     "text": [
      "{'Name': 'Alice', 'Age': 30, 'Hobby': 'Singing'}\n"
     ]
    }
   ],
   "source": [
    "print(dict_1)"
   ]
  },
  {
   "cell_type": "code",
   "execution_count": 72,
   "id": "678e5b28-d14b-44c5-b47b-f95099b54498",
   "metadata": {},
   "outputs": [
    {
     "name": "stdout",
     "output_type": "stream",
     "text": [
      "{'Name': 'Alice', 'Age': 15, 'Hobby': 'Singing'}\n"
     ]
    }
   ],
   "source": [
    "dict_1[\"Age\"] = 15\n",
    "print(dict_1)"
   ]
  },
  {
   "cell_type": "markdown",
   "id": "9929b9f9",
   "metadata": {},
   "source": [
    "## Lists Practice Problems"
   ]
  },
  {
   "cell_type": "markdown",
   "id": "81a48c39",
   "metadata": {},
   "source": [
    "### Example 1: To-Do List Manager\n",
    "- **Problem Statement**: Create a simple to-do list program that allows adding tasks, marking them complete, and viewing pending tasks.\n",
    "- **Concepts Covered**: append(), remove(), pop(), list indexing"
   ]
  },
  {
   "cell_type": "code",
   "execution_count": 74,
   "id": "a74e1166-aa0f-46e0-a82f-8d2fa48e46d3",
   "metadata": {
    "scrolled": true
   },
   "outputs": [
    {
     "name": "stdout",
     "output_type": "stream",
     "text": [
      "----To Do List Manager-----\n",
      " 1. Add task \n",
      " 2. View Task \n",
      " 3. Mark As completed Task \n",
      " 4. Exit \n"
     ]
    },
    {
     "name": "stdin",
     "output_type": "stream",
     "text": [
      "Enter your Choice :  1\n",
      "Enter The Task ---> Sleep\n"
     ]
    },
    {
     "name": "stdout",
     "output_type": "stream",
     "text": [
      "Sleep is added in the To-Do List\n",
      "----To Do List Manager-----\n",
      " 1. Add task \n",
      " 2. View Task \n",
      " 3. Mark As completed Task \n",
      " 4. Exit \n"
     ]
    },
    {
     "name": "stdin",
     "output_type": "stream",
     "text": [
      "Enter your Choice :  1\n",
      "Enter The Task ---> Eat\n"
     ]
    },
    {
     "name": "stdout",
     "output_type": "stream",
     "text": [
      "Eat is added in the To-Do List\n",
      "----To Do List Manager-----\n",
      " 1. Add task \n",
      " 2. View Task \n",
      " 3. Mark As completed Task \n",
      " 4. Exit \n"
     ]
    },
    {
     "name": "stdin",
     "output_type": "stream",
     "text": [
      "Enter your Choice :  1\n",
      "Enter The Task ---> Repeat\n"
     ]
    },
    {
     "name": "stdout",
     "output_type": "stream",
     "text": [
      "Repeat is added in the To-Do List\n",
      "----To Do List Manager-----\n",
      " 1. Add task \n",
      " 2. View Task \n",
      " 3. Mark As completed Task \n",
      " 4. Exit \n"
     ]
    },
    {
     "name": "stdin",
     "output_type": "stream",
     "text": [
      "Enter your Choice :  2\n"
     ]
    },
    {
     "name": "stdout",
     "output_type": "stream",
     "text": [
      " Tasks Pending -  ['Sleep', 'Eat', 'Repeat']\n",
      "----To Do List Manager-----\n",
      " 1. Add task \n",
      " 2. View Task \n",
      " 3. Mark As completed Task \n",
      " 4. Exit \n"
     ]
    },
    {
     "name": "stdin",
     "output_type": "stream",
     "text": [
      "Enter your Choice :  3\n"
     ]
    },
    {
     "name": "stdout",
     "output_type": "stream",
     "text": [
      "Task to do ---->  ['Sleep', 'Eat', 'Repeat']\n",
      "----To Do List Manager-----\n",
      " 1. Add task \n",
      " 2. View Task \n",
      " 3. Mark As completed Task \n",
      " 4. Exit \n"
     ]
    },
    {
     "name": "stdin",
     "output_type": "stream",
     "text": [
      "Enter your Choice :  5\n"
     ]
    },
    {
     "name": "stdout",
     "output_type": "stream",
     "text": [
      " Invalid Number \n",
      "----To Do List Manager-----\n",
      " 1. Add task \n",
      " 2. View Task \n",
      " 3. Mark As completed Task \n",
      " 4. Exit \n"
     ]
    },
    {
     "name": "stdin",
     "output_type": "stream",
     "text": [
      "Enter your Choice :  6\n"
     ]
    },
    {
     "name": "stdout",
     "output_type": "stream",
     "text": [
      " Invalid Number \n",
      "----To Do List Manager-----\n",
      " 1. Add task \n",
      " 2. View Task \n",
      " 3. Mark As completed Task \n",
      " 4. Exit \n"
     ]
    },
    {
     "name": "stdin",
     "output_type": "stream",
     "text": [
      "Enter your Choice :  4\n"
     ]
    },
    {
     "name": "stdout",
     "output_type": "stream",
     "text": [
      "Exiting... \n"
     ]
    }
   ],
   "source": [
    "to_do_list =[]\n",
    "\n",
    "while True:\n",
    "    print(\"----To Do List Manager-----\")\n",
    "    print(\" 1. Add task \")\n",
    "    print(\" 2. View Task \")\n",
    "    print(\" 3. Mark As completed Task \")\n",
    "    print(\" 4. Exit \")\n",
    "\n",
    "    choice = int(input(\"Enter your Choice : \"))\n",
    "    if choice == 1:\n",
    "        task = input(\"Enter The Task --->\")\n",
    "        to_do_list.append(task)\n",
    "        print(f\"{task} is added in the To-Do List\")\n",
    "    elif choice ==2 :\n",
    "        if not to_do_list:\n",
    "            print(\" Your list is Empty!! \")\n",
    "        else:\n",
    "            print(\" Tasks Pending - \", to_do_list)\n",
    "    elif choice == 3:\n",
    "        if not to_do_list:\n",
    "            print(\" Your list is Empty!! \")\n",
    "        else:\n",
    "            print(\"Task to do ----> \", to_do_list)\n",
    "    elif choice == 4:\n",
    "        print(\"Exiting... \")\n",
    "        break\n",
    "    else:\n",
    "        print(\" Invalid Number \")\n",
    "        \n",
    "    "
   ]
  },
  {
   "cell_type": "code",
   "execution_count": null,
   "id": "bb04aacd-3d27-4830-ba74-f2504b82e9ce",
   "metadata": {},
   "outputs": [],
   "source": []
  },
  {
   "cell_type": "code",
   "execution_count": null,
   "id": "bd2fc258-9b5e-46ba-b774-ab8e9ad50c1e",
   "metadata": {},
   "outputs": [],
   "source": []
  },
  {
   "cell_type": "markdown",
   "id": "fec49539",
   "metadata": {},
   "source": [
    "### Example 2: List Sorting and Filtering\n",
    "- **Problem Statement**: Given a list of mixed integers, sort them, remove duplicates, and find the top 3 largest numbers.\n",
    "- **Concepts Covered**: sort(), set(), list slicing"
   ]
  },
  {
   "cell_type": "markdown",
   "id": "cef1ce60",
   "metadata": {},
   "source": [
    "## Tuples Practice Problems"
   ]
  },
  {
   "cell_type": "markdown",
   "id": "8d2c167d",
   "metadata": {},
   "source": [
    "### Example 3: Coordinate Processing\n",
    "- **Problem Statement**: Given a list of tuples representing coordinates, separate them into two lists for X and Y coordinates.\n",
    "- **Concepts Covered**: Tuple unpacking, loops"
   ]
  },
  {
   "cell_type": "markdown",
   "id": "a5d00ea5",
   "metadata": {},
   "source": [
    "### Example 4: Student Records\n",
    "- **Problem Statement**: Store student information (name, age, grade) in tuples and sort by age.\n",
    "- **Concepts Covered**: Tuples, sorting with lambda"
   ]
  },
  {
   "cell_type": "markdown",
   "id": "1067abb6",
   "metadata": {},
   "source": [
    "## Sets Practice Problems"
   ]
  },
  {
   "cell_type": "markdown",
   "id": "126d2a95",
   "metadata": {},
   "source": [
    "### Example 5: Unique Word Finder\n",
    "- **Problem Statement**: Find the unique words from a given sentence.\n",
    "- **Concepts Covered**: Sets, string manipulation"
   ]
  },
  {
   "cell_type": "markdown",
   "id": "911d3fff",
   "metadata": {},
   "source": [
    "### Example 6: Set Operations\n",
    "- **Problem Statement**: Given two sets of numbers, find union, intersection, and difference.\n",
    "- **Concepts Covered**: Set union, intersection, difference"
   ]
  },
  {
   "cell_type": "markdown",
   "id": "18577992",
   "metadata": {},
   "source": [
    "## Dictionaries Practice Problems"
   ]
  },
  {
   "cell_type": "markdown",
   "id": "f642ada8",
   "metadata": {},
   "source": [
    "### Example 7: Student Grades Management\n",
    "- **Problem Statement**: Create a dictionary to store student names and their grades. Allow updating, adding new students, and deleting.\n",
    "- **Concepts Covered**: Dictionary CRUD operations"
   ]
  },
  {
   "cell_type": "code",
   "execution_count": 1,
   "id": "6de713bb-2c69-4c55-b110-6b88c8c78a24",
   "metadata": {},
   "outputs": [
    {
     "name": "stdout",
     "output_type": "stream",
     "text": [
      "----Grade Management System-----\n",
      " 1. Add a Student \n",
      " 2. View All the Grades \n",
      " 3. Update Grade \n",
      " 4. Delete Student \n",
      " 5. Exit \n"
     ]
    },
    {
     "name": "stdin",
     "output_type": "stream",
     "text": [
      "Enter your Choice :  1\n",
      "Enter the name of the Student : Alen\n",
      "Enter Grade  A+\n"
     ]
    },
    {
     "name": "stdout",
     "output_type": "stream",
     "text": [
      " Studnet name : Alen is added in the Database\n",
      "----Grade Management System-----\n",
      " 1. Add a Student \n",
      " 2. View All the Grades \n",
      " 3. Update Grade \n",
      " 4. Delete Student \n",
      " 5. Exit \n"
     ]
    },
    {
     "name": "stdin",
     "output_type": "stream",
     "text": [
      "Enter your Choice :  3\n",
      "Enter the name of the Student : Alen\n",
      "Enter the new Grade :  B\n"
     ]
    },
    {
     "name": "stdout",
     "output_type": "stream",
     "text": [
      " Student Alen's Grade is updated ! \n",
      "----Grade Management System-----\n",
      " 1. Add a Student \n",
      " 2. View All the Grades \n",
      " 3. Update Grade \n",
      " 4. Delete Student \n",
      " 5. Exit \n"
     ]
    },
    {
     "name": "stdin",
     "output_type": "stream",
     "text": [
      "Enter your Choice :  2\n"
     ]
    },
    {
     "name": "stdout",
     "output_type": "stream",
     "text": [
      "Alen : B\n",
      "----Grade Management System-----\n",
      " 1. Add a Student \n",
      " 2. View All the Grades \n",
      " 3. Update Grade \n",
      " 4. Delete Student \n",
      " 5. Exit \n"
     ]
    },
    {
     "name": "stdin",
     "output_type": "stream",
     "text": [
      "Enter your Choice :  4\n",
      "Enter the name of the Student : Alen\n"
     ]
    },
    {
     "name": "stdout",
     "output_type": "stream",
     "text": [
      " Student Alen is Deleted Successfully !\n",
      "----Grade Management System-----\n",
      " 1. Add a Student \n",
      " 2. View All the Grades \n",
      " 3. Update Grade \n",
      " 4. Delete Student \n",
      " 5. Exit \n"
     ]
    },
    {
     "name": "stdin",
     "output_type": "stream",
     "text": [
      "Enter your Choice :  5\n"
     ]
    },
    {
     "name": "stdout",
     "output_type": "stream",
     "text": [
      "Exiting...\n"
     ]
    }
   ],
   "source": [
    "graders = {}\n",
    "while True:\n",
    "    print(\"----Grade Management System-----\")\n",
    "    print(\" 1. Add a Student \")\n",
    "    print(\" 2. View All the Grades \")\n",
    "    print(\" 3. Update Grade \")\n",
    "    print(\" 4. Delete Student \")\n",
    "    print(\" 5. Exit \")\n",
    "\n",
    "    choice = int(input(\"Enter your Choice : \"))\n",
    "    if choice == 1:\n",
    "        name = input(\"Enter the name of the Student :\")\n",
    "        grade = input(\"Enter Grade \")\n",
    "        graders[name] = grade\n",
    "        print(f\" Studnet name : {name} is added in the Database\")\n",
    "    elif choice ==2:\n",
    "        if not graders:\n",
    "            print(\" No Student Records found \")\n",
    "        else:\n",
    "            for name, grade in graders.items():\n",
    "                print(f\"{name} : {grade}\")\n",
    "    elif choice ==3 :\n",
    "        name = input(\"Enter the name of the Student :\")\n",
    "        if name in graders: \n",
    "            new_grade = input(\"Enter the new Grade : \")\n",
    "            graders[name] = new_grade\n",
    "            print(f\" Student {name}'s Grade is updated ! \")\n",
    "        else:\n",
    "            print(f\" Student {name} not found \")\n",
    "    elif choice == 4:\n",
    "        name = input(\"Enter the name of the Student :\")\n",
    "        if name in graders: \n",
    "            graders.pop(name)\n",
    "            print(f\" Student {name} is Deleted Successfully !\")\n",
    "        else:\n",
    "            print(f\" Student {name} not found \")\n",
    "    elif choice == 5:\n",
    "        print(\"Exiting...\")\n",
    "        break\n",
    "    else:\n",
    "        print(\"Invalid Number \")\n"
   ]
  },
  {
   "cell_type": "markdown",
   "id": "b0300caf",
   "metadata": {},
   "source": [
    "### Example 8: Dictionary Comprehension\n",
    "- **Problem Statement**: Given a list of names, create a dictionary with names as keys and lengths of names as values.\n",
    "- **Concepts Covered**: Dictionary comprehension"
   ]
  },
  {
   "cell_type": "markdown",
   "id": "ec513d29",
   "metadata": {},
   "source": [
    "## Mixed Data Structures Practice Problems"
   ]
  },
  {
   "cell_type": "markdown",
   "id": "aef83c76",
   "metadata": {},
   "source": [
    "### Example 9: Shopping Cart Simulation\n",
    "- **Problem Statement**: Simulate a shopping cart using dictionaries and lists. Allow adding, removing items, and calculating total price.\n",
    "- **Concepts Covered**: Combining lists and dictionaries"
   ]
  },
  {
   "cell_type": "markdown",
   "id": "f3ab47db",
   "metadata": {},
   "source": [
    "### Example 10: Inventory System\n",
    "- **Problem Statement**: Create a simple inventory system for a store, managing products, quantities, and categories using lists, tuples, sets, and dictionaries.\n",
    "- **Concepts Covered**: Comprehensive usage of all data structures"
   ]
  },
  {
   "cell_type": "markdown",
   "id": "2c869d0e",
   "metadata": {},
   "source": [
    "\n",
    "## 🔁🧠 Example 1: Vowel Counter from a Sentence\n",
    "**Problem Statement:**  \n",
    "Write a program that takes a sentence as input and counts the number of each vowel (a, e, i, o, u). Use a dictionary to store counts and a `for` loop with `if-else` to check characters.\n",
    "\n",
    "**Concepts Covered:**  \n",
    "- `for` loop  \n",
    "- `if-else`  \n",
    "- `dictionary`  \n",
    "- `string` iteration\n"
   ]
  },
  {
   "cell_type": "code",
   "execution_count": null,
   "id": "ad0df458",
   "metadata": {},
   "outputs": [],
   "source": [
    "\n",
    "sentence = input(\"Enter a sentence: \").lower()\n",
    "vowel_count = {\"a\": 0, \"e\": 0, \"i\": 0, \"o\": 0, \"u\": 0}\n",
    "\n",
    "for char in sentence:\n",
    "    if char in vowel_count:\n",
    "        vowel_count[char] += 1\n",
    "\n",
    "print(\"Vowel counts:\", vowel_count)\n"
   ]
  },
  {
   "cell_type": "markdown",
   "id": "aedcc0d6",
   "metadata": {},
   "source": [
    "\n",
    "## 🔁🧠 Example 2: Categorize Numbers\n",
    "**Problem Statement:**  \n",
    "Take a list of numbers and classify them into two separate sets: even and odd numbers. Use a `for` loop, `if-else`, and `set` to solve it.\n",
    "\n",
    "**Concepts Covered:**  \n",
    "- `for` loop  \n",
    "- `if-else`  \n",
    "- `set`  \n",
    "- List traversal\n"
   ]
  },
  {
   "cell_type": "code",
   "execution_count": null,
   "id": "f4f0f125",
   "metadata": {},
   "outputs": [],
   "source": [
    "\n",
    "numbers = [12, 3, 7, 8, 9, 14, 21, 28, 33, 40]\n",
    "even_set = set()\n",
    "odd_set = set()\n",
    "\n",
    "for num in numbers:\n",
    "    if num % 2 == 0:\n",
    "        even_set.add(num)\n",
    "    else:\n",
    "        odd_set.add(num)\n",
    "\n",
    "print(\"Even numbers:\", even_set)\n",
    "print(\"Odd numbers:\", odd_set)\n"
   ]
  }
 ],
 "metadata": {
  "kernelspec": {
   "display_name": "Python 3 (ipykernel)",
   "language": "python",
   "name": "python3"
  },
  "language_info": {
   "codemirror_mode": {
    "name": "ipython",
    "version": 3
   },
   "file_extension": ".py",
   "mimetype": "text/x-python",
   "name": "python",
   "nbconvert_exporter": "python",
   "pygments_lexer": "ipython3",
   "version": "3.11.5"
  }
 },
 "nbformat": 4,
 "nbformat_minor": 5
}
