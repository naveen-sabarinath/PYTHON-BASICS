{
 "cells": [
  {
   "cell_type": "markdown",
   "id": "c11517e8",
   "metadata": {},
   "source": [
    "# Python Data Structures - Practice Problems\n",
    "This notebook provides detailed problem statements covering lists, tuples, sets, and dictionaries, suitable for a 2.5-hour live coding session."
   ]
  },
  {
   "cell_type": "markdown",
   "id": "9929b9f9",
   "metadata": {},
   "source": [
    "## Lists Practice Problems"
   ]
  },
  {
   "cell_type": "markdown",
   "id": "81a48c39",
   "metadata": {},
   "source": [
    "### Example 1: To-Do List Manager\n",
    "- **Problem Statement**: Create a simple to-do list program that allows adding tasks, marking them complete, and viewing pending tasks.\n",
    "- **Concepts Covered**: append(), remove(), pop(), list indexing"
   ]
  },
  {
   "cell_type": "markdown",
   "id": "fec49539",
   "metadata": {},
   "source": [
    "### Example 2: List Sorting and Filtering\n",
    "- **Problem Statement**: Given a list of mixed integers, sort them, remove duplicates, and find the top 3 largest numbers.\n",
    "- **Concepts Covered**: sort(), set(), list slicing"
   ]
  },
  {
   "cell_type": "markdown",
   "id": "cef1ce60",
   "metadata": {},
   "source": [
    "## Tuples Practice Problems"
   ]
  },
  {
   "cell_type": "markdown",
   "id": "8d2c167d",
   "metadata": {},
   "source": [
    "### Example 3: Coordinate Processing\n",
    "- **Problem Statement**: Given a list of tuples representing coordinates, separate them into two lists for X and Y coordinates.\n",
    "- **Concepts Covered**: Tuple unpacking, loops"
   ]
  },
  {
   "cell_type": "markdown",
   "id": "a5d00ea5",
   "metadata": {},
   "source": [
    "### Example 4: Student Records\n",
    "- **Problem Statement**: Store student information (name, age, grade) in tuples and sort by age.\n",
    "- **Concepts Covered**: Tuples, sorting with lambda"
   ]
  },
  {
   "cell_type": "markdown",
   "id": "1067abb6",
   "metadata": {},
   "source": [
    "## Sets Practice Problems"
   ]
  },
  {
   "cell_type": "markdown",
   "id": "126d2a95",
   "metadata": {},
   "source": [
    "### Example 5: Unique Word Finder\n",
    "- **Problem Statement**: Find the unique words from a given sentence.\n",
    "- **Concepts Covered**: Sets, string manipulation"
   ]
  },
  {
   "cell_type": "markdown",
   "id": "911d3fff",
   "metadata": {},
   "source": [
    "### Example 6: Set Operations\n",
    "- **Problem Statement**: Given two sets of numbers, find union, intersection, and difference.\n",
    "- **Concepts Covered**: Set union, intersection, difference"
   ]
  },
  {
   "cell_type": "markdown",
   "id": "18577992",
   "metadata": {},
   "source": [
    "## Dictionaries Practice Problems"
   ]
  },
  {
   "cell_type": "markdown",
   "id": "f642ada8",
   "metadata": {},
   "source": [
    "### Example 7: Student Grades Management\n",
    "- **Problem Statement**: Create a dictionary to store student names and their grades. Allow updating, adding new students, and deleting.\n",
    "- **Concepts Covered**: Dictionary CRUD operations"
   ]
  },
  {
   "cell_type": "markdown",
   "id": "b0300caf",
   "metadata": {},
   "source": [
    "### Example 8: Dictionary Comprehension\n",
    "- **Problem Statement**: Given a list of names, create a dictionary with names as keys and lengths of names as values.\n",
    "- **Concepts Covered**: Dictionary comprehension"
   ]
  },
  {
   "cell_type": "markdown",
   "id": "ec513d29",
   "metadata": {},
   "source": [
    "## Mixed Data Structures Practice Problems"
   ]
  },
  {
   "cell_type": "markdown",
   "id": "aef83c76",
   "metadata": {},
   "source": [
    "### Example 9: Shopping Cart Simulation\n",
    "- **Problem Statement**: Simulate a shopping cart using dictionaries and lists. Allow adding, removing items, and calculating total price.\n",
    "- **Concepts Covered**: Combining lists and dictionaries"
   ]
  },
  {
   "cell_type": "markdown",
   "id": "f3ab47db",
   "metadata": {},
   "source": [
    "### Example 10: Inventory System\n",
    "- **Problem Statement**: Create a simple inventory system for a store, managing products, quantities, and categories using lists, tuples, sets, and dictionaries.\n",
    "- **Concepts Covered**: Comprehensive usage of all data structures"
   ]
  }
 ],
 "metadata": {},
 "nbformat": 4,
 "nbformat_minor": 5
}
