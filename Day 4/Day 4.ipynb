{
 "cells": [
  {
   "cell_type": "markdown",
   "id": "c1149dae",
   "metadata": {},
   "source": [
    "## 1. What is a Function?\n",
    "\n",
    "A function is a reusable block of code designed to perform a specific task.\n",
    "\n",
    "🧠 Think of it like a machine where you put something in (input), and it processes and gives you something out (output).\n",
    "\n",
    "We'll cover how functions save time, reduce errors, and make your code cleaner.\n",
    "\n",
    "---"
   ]
  },
  {
   "cell_type": "markdown",
   "id": "283aa88a",
   "metadata": {},
   "source": [
    "## 2. Defining a Function using `def`\n",
    "\n",
    "Python uses the `def` keyword to define a function.\n",
    "\n",
    "Structure:\n",
    "- Use `def`\n",
    "- Give your function a name\n",
    "- Use parentheses (with or without parameters)\n",
    "- Add a colon `:`\n",
    "- Indent the body\n",
    "\n",
    "We'll do multiple examples of simple and nested functions.\n",
    "\n",
    "---"
   ]
  },
  {
   "cell_type": "code",
   "execution_count": 2,
   "id": "f622b031-1fa9-48a8-8dbb-e04bee0a5a72",
   "metadata": {},
   "outputs": [],
   "source": [
    "def greet():\n",
    "    print(\"Hello World\")"
   ]
  },
  {
   "cell_type": "code",
   "execution_count": 2,
   "id": "097e1d5f",
   "metadata": {
    "vscode": {
     "languageId": "plaintext"
    }
   },
   "outputs": [
    {
     "name": "stdout",
     "output_type": "stream",
     "text": [
      "Hello World\n"
     ]
    }
   ],
   "source": [
    "greet()"
   ]
  },
  {
   "cell_type": "code",
   "execution_count": 3,
   "id": "07393933-a7cd-4ed0-b535-994b2d2e51b5",
   "metadata": {},
   "outputs": [],
   "source": [
    "def greet():\n",
    "    return \"Hello World\""
   ]
  },
  {
   "cell_type": "code",
   "execution_count": 4,
   "id": "89b2f01d-31f8-414f-8f37-c9e91e9faa56",
   "metadata": {},
   "outputs": [
    {
     "name": "stdout",
     "output_type": "stream",
     "text": [
      "Hello World\n"
     ]
    }
   ],
   "source": [
    "print(greet())"
   ]
  },
  {
   "cell_type": "code",
   "execution_count": 3,
   "id": "803e4e7f-9a3a-4f53-930d-8216b7956d56",
   "metadata": {},
   "outputs": [],
   "source": [
    "def greet(name):\n",
    "    return f\"Hello {name}\""
   ]
  },
  {
   "cell_type": "code",
   "execution_count": 4,
   "id": "7bc1defa-2ba3-422b-b8c6-f23b3a35b107",
   "metadata": {},
   "outputs": [
    {
     "name": "stdout",
     "output_type": "stream",
     "text": [
      "Hello Alice\n"
     ]
    }
   ],
   "source": [
    "print(greet(\"Alice\"))"
   ]
  },
  {
   "cell_type": "markdown",
   "id": "fc99b6c2",
   "metadata": {},
   "source": [
    "## 3. Calling a Function\n",
    "\n",
    "Once a function is defined, you need to call it to execute its logic.\n",
    "\n",
    "We'll experiment with calling basic, parameterized, and nested functions.\n",
    "\n",
    "---"
   ]
  },
  {
   "cell_type": "code",
   "execution_count": 11,
   "id": "5118967b",
   "metadata": {
    "vscode": {
     "languageId": "plaintext"
    }
   },
   "outputs": [
    {
     "name": "stdin",
     "output_type": "stream",
     "text": [
      " Enter the 1st Number :  5\n",
      " Enter the 2nd Number :  6\n"
     ]
    },
    {
     "ename": "TypeError",
     "evalue": "addition() missing 1 required positional argument: 'b'",
     "output_type": "error",
     "traceback": [
      "\u001b[0;31m---------------------------------------------------------------------------\u001b[0m",
      "\u001b[0;31mTypeError\u001b[0m                                 Traceback (most recent call last)",
      "Cell \u001b[0;32mIn[11], line 8\u001b[0m\n\u001b[1;32m      5\u001b[0m inp_1 \u001b[38;5;241m=\u001b[39m \u001b[38;5;28mint\u001b[39m(\u001b[38;5;28minput\u001b[39m(\u001b[38;5;124m\"\u001b[39m\u001b[38;5;124m Enter the 1st Number : \u001b[39m\u001b[38;5;124m\"\u001b[39m))\n\u001b[1;32m      6\u001b[0m inp_2 \u001b[38;5;241m=\u001b[39m \u001b[38;5;28mint\u001b[39m(\u001b[38;5;28minput\u001b[39m(\u001b[38;5;124m\"\u001b[39m\u001b[38;5;124m Enter the 2nd Number : \u001b[39m\u001b[38;5;124m\"\u001b[39m))\n\u001b[0;32m----> 8\u001b[0m \u001b[38;5;28mprint\u001b[39m(\u001b[38;5;124m\"\u001b[39m\u001b[38;5;124mAddition : \u001b[39m\u001b[38;5;124m\"\u001b[39m, addition(inp_1))\n",
      "\u001b[0;31mTypeError\u001b[0m: addition() missing 1 required positional argument: 'b'"
     ]
    }
   ],
   "source": [
    "# Addition \n",
    "def addition(a,b):\n",
    "    return a+b\n",
    "\n",
    "inp_1 = int(input(\" Enter the 1st Number : \"))\n",
    "inp_2 = int(input(\" Enter the 2nd Number : \"))\n",
    "\n",
    "print(\"Addition : \", addition(inp_1))"
   ]
  },
  {
   "cell_type": "markdown",
   "id": "1bcae0f6",
   "metadata": {},
   "source": [
    "## 4. Parameters and Arguments\n",
    "\n",
    "We’ll explore the different ways you can pass information into functions:\n",
    "- Positional arguments\n",
    "- Keyword arguments\n",
    "- Default values\n",
    "- `*args` and `**kwargs`\n",
    "\n",
    "Live examples will clarify each case with relatable use cases.\n",
    "\n",
    "---"
   ]
  },
  {
   "cell_type": "code",
   "execution_count": 15,
   "id": "e1340301",
   "metadata": {
    "vscode": {
     "languageId": "plaintext"
    }
   },
   "outputs": [
    {
     "name": "stdout",
     "output_type": "stream",
     "text": [
      "Name:  Bob\n",
      "Age:  20\n",
      "Additional Args :  ('Student',)\n",
      "Keyword Args :  {'Fav_food': 'Biryani'}\n"
     ]
    }
   ],
   "source": [
    "def info(name, age=18, *args, **kargs):\n",
    "    print(\"Name: \",name)\n",
    "    print(\"Age: \",age)\n",
    "    print(\"Additional Args : \", args)\n",
    "    print(\"Keyword Args : \",kargs)\n",
    "\n",
    "info(\"Bob\", 20, \"Student\", Fav_food = \"Biryani\")\n",
    "    "
   ]
  },
  {
   "cell_type": "markdown",
   "id": "3eed7864",
   "metadata": {},
   "source": [
    "## 5. Return Statement\n",
    "\n",
    "`return` allows the function to give back a value.\n",
    "\n",
    "We’ll do examples of functions that calculate and return values, including multiple returns.\n",
    "\n",
    "---"
   ]
  },
  {
   "cell_type": "code",
   "execution_count": null,
   "id": "0f27b853",
   "metadata": {
    "vscode": {
     "languageId": "plaintext"
    }
   },
   "outputs": [],
   "source": []
  },
  {
   "cell_type": "markdown",
   "id": "01aeade4",
   "metadata": {},
   "source": [
    "## 6. Docstrings and Documentation\n",
    "\n",
    "Every function should have documentation using a docstring.\n",
    "\n",
    "We’ll practice writing clean, readable docstrings and using the `help()` function.\n",
    "\n",
    "---"
   ]
  },
  {
   "cell_type": "code",
   "execution_count": 20,
   "id": "4bec861a",
   "metadata": {
    "vscode": {
     "languageId": "plaintext"
    }
   },
   "outputs": [
    {
     "name": "stdout",
     "output_type": "stream",
     "text": [
      "30\n"
     ]
    }
   ],
   "source": [
    "def multiply(a,b):\n",
    "    \"\"\"Performing multiplication \n",
    "    ekfgeklfgme;\n",
    "    efrgmelkfnmbeklf\n",
    "    efnjlnelfb \"\"\"\n",
    "    \n",
    "    return a*b\n",
    "\n",
    "print(multiply(5,6))"
   ]
  },
  {
   "cell_type": "markdown",
   "id": "06476769",
   "metadata": {},
   "source": [
    "## 7. Function Scope\n",
    "\n",
    "Understanding variable scope is crucial:\n",
    "- Local vs Global\n",
    "- `global` keyword\n",
    "- `nonlocal` for nested functions\n",
    "\n",
    "We'll demonstrate scope with multiple layered examples.\n",
    "\n",
    "---"
   ]
  },
  {
   "cell_type": "code",
   "execution_count": 23,
   "id": "7cc5c3ab",
   "metadata": {
    "vscode": {
     "languageId": "plaintext"
    }
   },
   "outputs": [
    {
     "name": "stdout",
     "output_type": "stream",
     "text": [
      "Inside the Function :  3\n",
      "7\n"
     ]
    },
    {
     "ename": "NameError",
     "evalue": "name 'a' is not defined",
     "output_type": "error",
     "traceback": [
      "\u001b[0;31m---------------------------------------------------------------------------\u001b[0m",
      "\u001b[0;31mNameError\u001b[0m                                 Traceback (most recent call last)",
      "Cell \u001b[0;32mIn[23], line 5\u001b[0m\n\u001b[1;32m      3\u001b[0m     \u001b[38;5;28;01mreturn\u001b[39;00m a\u001b[38;5;241m+\u001b[39mb\n\u001b[1;32m      4\u001b[0m \u001b[38;5;28mprint\u001b[39m(addition(\u001b[38;5;241m3\u001b[39m,\u001b[38;5;241m4\u001b[39m))\n\u001b[0;32m----> 5\u001b[0m \u001b[38;5;28mprint\u001b[39m(\u001b[38;5;124m\"\u001b[39m\u001b[38;5;124mOutside the function : \u001b[39m\u001b[38;5;124m\"\u001b[39m,a)\n",
      "\u001b[0;31mNameError\u001b[0m: name 'a' is not defined"
     ]
    }
   ],
   "source": [
    "def addition(a,b):\n",
    "    print(\"Inside the Function : \",a)\n",
    "    return a+b\n",
    "print(addition(3,4))\n",
    "print(\"Outside the function : \",a)"
   ]
  },
  {
   "cell_type": "code",
   "execution_count": 27,
   "id": "300cbc7b-2088-4ab3-b324-65c090b4f9ab",
   "metadata": {},
   "outputs": [
    {
     "name": "stdout",
     "output_type": "stream",
     "text": [
      "Inner :  Inner\n",
      "Outer : Inner\n",
      "Global : Global\n"
     ]
    }
   ],
   "source": [
    "x = 'Global'\n",
    "\n",
    "def outer():\n",
    "    x = 'outer'\n",
    "    def inner():\n",
    "        nonlocal x\n",
    "        x = \"Inner\"\n",
    "        print(\"Inner : \",x)\n",
    "    inner()\n",
    "    print(\"Outer :\",x)\n",
    "\n",
    "outer()\n",
    "print(\"Global :\",x)"
   ]
  },
  {
   "cell_type": "code",
   "execution_count": null,
   "id": "68e9844d-d645-4dbb-8284-5520f8479d08",
   "metadata": {},
   "outputs": [],
   "source": []
  },
  {
   "cell_type": "markdown",
   "id": "b8038568",
   "metadata": {},
   "source": [
    "## 8. Lambda (Anonymous) Functions\n",
    "\n",
    "Short, one-line functions for quick tasks. We’ll compare them with regular functions.\n",
    "\n",
    "Plenty of live demos using `lambda`, especially with `map()` and `filter()`.\n",
    "\n",
    "---"
   ]
  },
  {
   "cell_type": "code",
   "execution_count": 28,
   "id": "b68d1a55",
   "metadata": {
    "vscode": {
     "languageId": "plaintext"
    }
   },
   "outputs": [
    {
     "name": "stdout",
     "output_type": "stream",
     "text": [
      "16\n"
     ]
    }
   ],
   "source": [
    "def square(x):\n",
    "    return x**2\n",
    "print(square(4))"
   ]
  },
  {
   "cell_type": "code",
   "execution_count": 31,
   "id": "c8605621-9330-4309-a040-75ab732fc827",
   "metadata": {},
   "outputs": [
    {
     "name": "stdout",
     "output_type": "stream",
     "text": [
      "9\n"
     ]
    }
   ],
   "source": [
    "square_lambda = lambda x,y: x+y\n",
    "print(square_lambda(4,5))"
   ]
  },
  {
   "cell_type": "code",
   "execution_count": 33,
   "id": "68a53d92-01ba-4240-84db-79660a779655",
   "metadata": {},
   "outputs": [
    {
     "name": "stdout",
     "output_type": "stream",
     "text": [
      "[1, 4, 9, 16]\n"
     ]
    }
   ],
   "source": [
    "#map()\n",
    "numbers = [1,2,3,4]\n",
    "square = list(map(lambda x: x**2, numbers))\n",
    "print(square)"
   ]
  },
  {
   "cell_type": "code",
   "execution_count": 34,
   "id": "489d24e6-26b0-40f4-b1fc-e4bf9d9521b5",
   "metadata": {},
   "outputs": [
    {
     "name": "stdout",
     "output_type": "stream",
     "text": [
      "[2, 4, 6, 8, 10]\n"
     ]
    }
   ],
   "source": [
    "#filter()\n",
    "numbers = [1,2,3,4,5,6,7,8,9,10]\n",
    "\n",
    "filtered = list(filter(lambda x: x%2==0, numbers))\n",
    "print(filtered)"
   ]
  },
  {
   "cell_type": "code",
   "execution_count": null,
   "id": "7a03a9d8-9b81-486b-92a1-5c6b69519151",
   "metadata": {},
   "outputs": [],
   "source": []
  },
  {
   "cell_type": "markdown",
   "id": "aab838ed",
   "metadata": {},
   "source": [
    "## 9. Higher-Order Functions\n",
    "\n",
    "Functions that accept other functions as arguments or return them.\n",
    "\n",
    "You’ll learn how to use them for abstraction and flexibility.\n",
    "\n",
    "---"
   ]
  },
  {
   "cell_type": "code",
   "execution_count": 36,
   "id": "50e01991",
   "metadata": {
    "vscode": {
     "languageId": "plaintext"
    }
   },
   "outputs": [
    {
     "name": "stdout",
     "output_type": "stream",
     "text": [
      "HELLO\n",
      "hello\n"
     ]
    }
   ],
   "source": [
    "def shout(text):\n",
    "    return text.upper()\n",
    "\n",
    "def whisper(text):\n",
    "    return text.lower()\n",
    "\n",
    "def greet(func):\n",
    "    return func(\"Hello\")\n",
    "\n",
    "print(greet(shout))\n",
    "print(greet(whisper))"
   ]
  },
  {
   "cell_type": "markdown",
   "id": "e846c8ab",
   "metadata": {},
   "source": [
    "## 10. Nested Functions\n",
    "\n",
    "Functions can be defined inside other functions.\n",
    "\n",
    "We'll look at how they can be used for encapsulation or with decorators and closures.\n",
    "\n",
    "---"
   ]
  },
  {
   "cell_type": "code",
   "execution_count": null,
   "id": "391033e7",
   "metadata": {
    "vscode": {
     "languageId": "plaintext"
    }
   },
   "outputs": [],
   "source": []
  },
  {
   "cell_type": "markdown",
   "id": "2bf899e2",
   "metadata": {},
   "source": [
    "## 11. Function Composition\n",
    "\n",
    "Combining functions together to build complex logic from simpler parts.\n",
    "\n",
    "We’ll try stacking multiple functions together in real-world scenarios.\n",
    "\n",
    "---"
   ]
  },
  {
   "cell_type": "code",
   "execution_count": null,
   "id": "14cac4d7",
   "metadata": {
    "vscode": {
     "languageId": "plaintext"
    }
   },
   "outputs": [],
   "source": []
  },
  {
   "cell_type": "markdown",
   "id": "402db25f",
   "metadata": {},
   "source": [
    "## 12. Functional Tools: map(), filter(), reduce()\n",
    "\n",
    "Explore built-in Python tools that let you apply functions over sequences in powerful ways.\n",
    "\n",
    "We'll use `lambda` with these to see real functional power.\n",
    "\n",
    "---"
   ]
  },
  {
   "cell_type": "code",
   "execution_count": null,
   "id": "7906ed91",
   "metadata": {
    "vscode": {
     "languageId": "plaintext"
    }
   },
   "outputs": [],
   "source": []
  },
  {
   "cell_type": "markdown",
   "id": "d50b32de",
   "metadata": {},
   "source": [
    "## 13. List Comprehensions vs Lambda\n",
    "\n",
    "Compare Pythonic list comprehensions with lambda + map/filter.\n",
    "\n",
    "You’ll learn when to use each and why.\n",
    "\n",
    "---"
   ]
  },
  {
   "cell_type": "code",
   "execution_count": null,
   "id": "a66a14e8",
   "metadata": {
    "vscode": {
     "languageId": "plaintext"
    }
   },
   "outputs": [],
   "source": []
  },
  {
   "cell_type": "markdown",
   "id": "2c8ac659",
   "metadata": {},
   "source": [
    "## 14. Decorators\n",
    "\n",
    "Functions that modify the behavior of other functions.\n",
    "\n",
    "We'll build decorators from scratch and also try real-life examples like logging and access control.\n",
    "\n",
    "---"
   ]
  },
  {
   "cell_type": "code",
   "execution_count": null,
   "id": "b3006803",
   "metadata": {
    "vscode": {
     "languageId": "plaintext"
    }
   },
   "outputs": [],
   "source": []
  },
  {
   "cell_type": "markdown",
   "id": "61048081",
   "metadata": {},
   "source": [
    "## 15. Closures\n",
    "\n",
    "Closures let nested functions remember values from the outer function.\n",
    "\n",
    "You’ll understand how this leads to memory-efficient code and cleaner APIs.\n",
    "\n",
    "---"
   ]
  },
  {
   "cell_type": "code",
   "execution_count": null,
   "id": "05968c76",
   "metadata": {
    "vscode": {
     "languageId": "plaintext"
    }
   },
   "outputs": [],
   "source": []
  },
  {
   "cell_type": "markdown",
   "id": "ee443743",
   "metadata": {},
   "source": [
    "## 16. Testing Functions using assert\n",
    "\n",
    "`assert` is used to test and validate your code.\n",
    "\n",
    "We’ll write test cases live and debug them together.\n",
    "\n",
    "---"
   ]
  },
  {
   "cell_type": "code",
   "execution_count": null,
   "id": "10e11505",
   "metadata": {
    "vscode": {
     "languageId": "plaintext"
    }
   },
   "outputs": [],
   "source": []
  },
  {
   "cell_type": "markdown",
   "id": "1d5770af",
   "metadata": {},
   "source": [
    "## 17. Built-in vs User-defined Functions\n",
    "\n",
    "Python has many built-in functions. You’ll learn how to build your own and when to use which.\n",
    "\n",
    "---"
   ]
  },
  {
   "cell_type": "code",
   "execution_count": null,
   "id": "9d357d3f",
   "metadata": {
    "vscode": {
     "languageId": "plaintext"
    }
   },
   "outputs": [],
   "source": []
  },
  {
   "cell_type": "markdown",
   "id": "ce4b8d65",
   "metadata": {},
   "source": [
    "## 18. Recursive Functions\n",
    "\n",
    "A function calling itself! We’ll solve factorial, Fibonacci, and other recursion-based challenges.\n",
    "\n",
    "---"
   ]
  },
  {
   "cell_type": "code",
   "execution_count": 37,
   "id": "d0ebaf13",
   "metadata": {
    "vscode": {
     "languageId": "plaintext"
    }
   },
   "outputs": [
    {
     "name": "stdout",
     "output_type": "stream",
     "text": [
      "120\n"
     ]
    }
   ],
   "source": [
    "def factorial(n):\n",
    "    if n ==0 or n ==1:\n",
    "        return 1\n",
    "    else:\n",
    "        return n *factorial(n-1)\n",
    "print(factorial(5))"
   ]
  },
  {
   "cell_type": "markdown",
   "id": "c68c0289",
   "metadata": {},
   "source": [
    "## 19. Function Annotations (Type Hinting)\n",
    "\n",
    "Add type hints to function parameters and returns for better readability and tooling support.\n",
    "\n",
    "---"
   ]
  },
  {
   "cell_type": "code",
   "execution_count": null,
   "id": "79986e73",
   "metadata": {
    "vscode": {
     "languageId": "plaintext"
    }
   },
   "outputs": [],
   "source": []
  },
  {
   "cell_type": "code",
   "execution_count": null,
   "id": "21a2d045",
   "metadata": {
    "vscode": {
     "languageId": "plaintext"
    }
   },
   "outputs": [],
   "source": []
  },
  {
   "cell_type": "markdown",
   "id": "8943a17a",
   "metadata": {},
   "source": [
    "\n",
    "## 🧠 20 Function Examples (Descriptions Only)\n",
    "\n",
    "Below are practical examples combining **functions**, **loops**, and **data structures**, explained without code.\n",
    "\n",
    "---\n",
    "\n",
    "### 1. Sum of a List  \n",
    "Create a function that returns the sum of all elements in a list.\n",
    "\n",
    "\n"
   ]
  },
  {
   "cell_type": "code",
   "execution_count": 38,
   "id": "ad9348f5-b0ad-418a-9643-ab830ddab905",
   "metadata": {},
   "outputs": [
    {
     "name": "stdout",
     "output_type": "stream",
     "text": [
      "150\n"
     ]
    }
   ],
   "source": [
    "def sum_of_list(numbers):\n",
    "    total = 0\n",
    "    for i in numbers:\n",
    "        total = total+i\n",
    "    return total\n",
    "\n",
    "\n",
    "my_list = [10, 20, 30, 40, 50]\n",
    "print(sum_of_list(my_list))"
   ]
  },
  {
   "cell_type": "code",
   "execution_count": null,
   "id": "a04aa5bb",
   "metadata": {
    "vscode": {
     "languageId": "plaintext"
    }
   },
   "outputs": [],
   "source": []
  },
  {
   "cell_type": "markdown",
   "id": "9bc9a5e2",
   "metadata": {},
   "source": [
    "### 2. Check Prime  \n",
    "Define a function to check whether a number is prime.\n",
    "\n"
   ]
  },
  {
   "cell_type": "code",
   "execution_count": null,
   "id": "98722884",
   "metadata": {
    "vscode": {
     "languageId": "plaintext"
    }
   },
   "outputs": [],
   "source": []
  },
  {
   "cell_type": "markdown",
   "id": "53c1f837",
   "metadata": {},
   "source": []
  },
  {
   "cell_type": "markdown",
   "id": "aaf1993b",
   "metadata": {},
   "source": [
    "\n",
    "### 3. Count Vowels in a String  \n",
    "Write a function that counts the number of vowels in a given string.\n",
    "\n"
   ]
  },
  {
   "cell_type": "code",
   "execution_count": 40,
   "id": "79f447b3-739e-44d0-aca8-1370d530632c",
   "metadata": {},
   "outputs": [
    {
     "name": "stdout",
     "output_type": "stream",
     "text": [
      "3\n"
     ]
    }
   ],
   "source": [
    "def count_of_vowels(string):\n",
    "    vowels = \"aeiouAEIOU\"\n",
    "    count = 0\n",
    "    for i in string:\n",
    "        if i in vowels:\n",
    "            count = count + 1\n",
    "    return count\n",
    "\n",
    "input_string = \"Hello World!\"\n",
    "print(count_of_vowels(input_string))"
   ]
  },
  {
   "cell_type": "code",
   "execution_count": null,
   "id": "32b97862",
   "metadata": {
    "vscode": {
     "languageId": "plaintext"
    }
   },
   "outputs": [],
   "source": []
  },
  {
   "cell_type": "markdown",
   "id": "eb2d33f8",
   "metadata": {},
   "source": [
    "### 4. Find Max in a List  \n",
    "Use a function to find the maximum value in a list of numbers.\n",
    "\n"
   ]
  },
  {
   "cell_type": "markdown",
   "id": "7dfec3d8",
   "metadata": {},
   "source": []
  },
  {
   "cell_type": "code",
   "execution_count": null,
   "id": "4ed544cb",
   "metadata": {
    "vscode": {
     "languageId": "plaintext"
    }
   },
   "outputs": [],
   "source": []
  },
  {
   "cell_type": "markdown",
   "id": "ee76a757",
   "metadata": {},
   "source": [
    "### 5. Reverse a List  \n",
    "Write a function that returns a reversed version of a list.\n",
    "\n"
   ]
  },
  {
   "cell_type": "code",
   "execution_count": null,
   "id": "1a199859",
   "metadata": {
    "vscode": {
     "languageId": "plaintext"
    }
   },
   "outputs": [],
   "source": []
  },
  {
   "cell_type": "markdown",
   "id": "f45c5834",
   "metadata": {},
   "source": [
    "### 6. Dictionary of Squares  \n",
    "Generate a dictionary where keys are numbers and values are their squares.\n",
    "\n"
   ]
  },
  {
   "cell_type": "markdown",
   "id": "860913f3",
   "metadata": {},
   "source": []
  },
  {
   "cell_type": "code",
   "execution_count": null,
   "id": "90119e01",
   "metadata": {
    "vscode": {
     "languageId": "plaintext"
    }
   },
   "outputs": [],
   "source": []
  },
  {
   "cell_type": "markdown",
   "id": "58860cc8",
   "metadata": {},
   "source": [
    "### 7. Flatten a Nested List  \n",
    "Create a function to convert a 2D list into a flat list.\n",
    "\n"
   ]
  },
  {
   "cell_type": "markdown",
   "id": "bd5904ac",
   "metadata": {},
   "source": []
  },
  {
   "cell_type": "code",
   "execution_count": null,
   "id": "f76c8130",
   "metadata": {
    "vscode": {
     "languageId": "plaintext"
    }
   },
   "outputs": [],
   "source": []
  },
  {
   "cell_type": "markdown",
   "id": "64916612",
   "metadata": {},
   "source": [
    "### 8. Frequency of Items  \n",
    "Build a frequency dictionary showing how many times each item appears in a list.\n",
    "\n"
   ]
  },
  {
   "cell_type": "markdown",
   "id": "441a312b",
   "metadata": {},
   "source": []
  },
  {
   "cell_type": "code",
   "execution_count": null,
   "id": "89e0f656",
   "metadata": {
    "vscode": {
     "languageId": "plaintext"
    }
   },
   "outputs": [],
   "source": []
  },
  {
   "cell_type": "markdown",
   "id": "499e06e6",
   "metadata": {},
   "source": [
    "### 9. Filter Even Numbers  \n",
    "Define a function that filters and returns only even numbers from a list.\n",
    "\n"
   ]
  },
  {
   "cell_type": "code",
   "execution_count": null,
   "id": "9c2de65d",
   "metadata": {
    "vscode": {
     "languageId": "plaintext"
    }
   },
   "outputs": [],
   "source": []
  },
  {
   "cell_type": "markdown",
   "id": "b45befbf",
   "metadata": {},
   "source": [
    "### 10. Merge Two Dictionaries  \n",
    "Write a function to merge two dictionaries into one.\n"
   ]
  },
  {
   "cell_type": "markdown",
   "id": "7624eb60",
   "metadata": {},
   "source": []
  },
  {
   "cell_type": "markdown",
   "id": "fd5243e3",
   "metadata": {},
   "source": [
    "### 11. Check Palindrome  \n",
    "Create a function that checks if a string is a palindrome.\n",
    "\n"
   ]
  },
  {
   "cell_type": "code",
   "execution_count": 41,
   "id": "d25a032d-ba6f-4e49-a73c-28fdfe5b13ea",
   "metadata": {},
   "outputs": [
    {
     "name": "stdout",
     "output_type": "stream",
     "text": [
      "True\n",
      "False\n",
      "True\n"
     ]
    }
   ],
   "source": [
    "def palindrome(text):\n",
    "    return text == text[::-1] \n",
    "\n",
    "print(palindrome(\"madam\"))\n",
    "print(palindrome(\"Hello World\"))\n",
    "print(palindrome(\"MOM\"))"
   ]
  },
  {
   "cell_type": "markdown",
   "id": "7e8474c5",
   "metadata": {},
   "source": [
    "### 12. Fibonacci Sequence  \n",
    "Define a function that returns the first n numbers in the Fibonacci sequence.\n",
    "\n"
   ]
  },
  {
   "cell_type": "code",
   "execution_count": 42,
   "id": "1b0ed5b8-ecbc-4689-935d-f5b20e9906aa",
   "metadata": {},
   "outputs": [
    {
     "name": "stdout",
     "output_type": "stream",
     "text": [
      "[0, 1, 1, 2, 3, 5, 8, 13, 21, 34, 55, 89, 144, 233, 377, 610, 987, 1597, 2584, 4181, 6765, 10946, 17711, 28657, 46368, 75025, 121393, 196418, 317811, 514229, 832040, 1346269, 2178309, 3524578, 5702887, 9227465, 14930352, 24157817, 39088169, 63245986, 102334155, 165580141, 267914296, 433494437, 701408733, 1134903170, 1836311903, 2971215073, 4807526976, 7778742049, 12586269025, 20365011074, 32951280099, 53316291173, 86267571272, 139583862445, 225851433717, 365435296162, 591286729879, 956722026041, 1548008755920, 2504730781961, 4052739537881, 6557470319842, 10610209857723, 17167680177565, 27777890035288, 44945570212853, 72723460248141, 117669030460994, 190392490709135, 308061521170129, 498454011879264, 806515533049393, 1304969544928657, 2111485077978050, 3416454622906707, 5527939700884757, 8944394323791464, 14472334024676221, 23416728348467685, 37889062373143906, 61305790721611591, 99194853094755497, 160500643816367088, 259695496911122585, 420196140727489673, 679891637638612258, 1100087778366101931, 1779979416004714189, 2880067194370816120, 4660046610375530309, 7540113804746346429, 12200160415121876738, 19740274219868223167, 31940434634990099905, 51680708854858323072, 83621143489848422977, 135301852344706746049, 218922995834555169026]\n"
     ]
    }
   ],
   "source": [
    "def fibonacci(n):\n",
    "    a =0\n",
    "    b =1\n",
    "    lis =[]\n",
    "    for _ in range(n):\n",
    "        lis.append(a)\n",
    "        a,b = b, a+b\n",
    "    return lis\n",
    "\n",
    "print(fibonacci(100))\n",
    "        "
   ]
  },
  {
   "cell_type": "code",
   "execution_count": null,
   "id": "20013067",
   "metadata": {
    "vscode": {
     "languageId": "plaintext"
    }
   },
   "outputs": [],
   "source": []
  },
  {
   "cell_type": "markdown",
   "id": "0145f72f",
   "metadata": {},
   "source": [
    "### 13. Find Common Elements  \n",
    "Use sets in a function to find elements common to two lists.\n",
    "\n"
   ]
  },
  {
   "cell_type": "markdown",
   "id": "130993e3",
   "metadata": {},
   "source": []
  },
  {
   "cell_type": "code",
   "execution_count": null,
   "id": "fae6ed9e",
   "metadata": {
    "vscode": {
     "languageId": "plaintext"
    }
   },
   "outputs": [],
   "source": []
  },
  {
   "cell_type": "markdown",
   "id": "b781a389",
   "metadata": {},
   "source": [
    "### 14. Nested Dictionary Iteration  \n",
    "Write a function that iterates over and prints key-value pairs in a nested dictionary.\n",
    "\n"
   ]
  },
  {
   "cell_type": "markdown",
   "id": "e17838a8",
   "metadata": {},
   "source": []
  },
  {
   "cell_type": "markdown",
   "id": "1e5956ef",
   "metadata": {},
   "source": [
    "### 15. Average of Dictionary Values  \n",
    "Create a function to calculate the average of all values in a dictionary.\n",
    "\n"
   ]
  },
  {
   "cell_type": "markdown",
   "id": "78693395",
   "metadata": {},
   "source": []
  },
  {
   "cell_type": "markdown",
   "id": "ef670260",
   "metadata": {},
   "source": [
    "### 16. Create Student Grade Report  \n",
    "Develop a function that prints a formatted report of student names and their grades.\n",
    "\n"
   ]
  },
  {
   "cell_type": "markdown",
   "id": "b58423ae",
   "metadata": {},
   "source": []
  },
  {
   "cell_type": "markdown",
   "id": "00aa747e",
   "metadata": {},
   "source": [
    "### 17. Check Subset  \n",
    "Write a function to determine if one list is a subset of another using sets.\n"
   ]
  },
  {
   "cell_type": "markdown",
   "id": "9eae6645",
   "metadata": {},
   "source": []
  },
  {
   "cell_type": "markdown",
   "id": "c38f3c4a",
   "metadata": {},
   "source": [
    "\n",
    "### 18. Filter Words by Length  \n",
    "Create a function that filters words from a list based on a minimum length.\n",
    "\n"
   ]
  },
  {
   "cell_type": "markdown",
   "id": "ed7b75ef",
   "metadata": {},
   "source": []
  },
  {
   "cell_type": "markdown",
   "id": "339705e9",
   "metadata": {},
   "source": [
    "### 19. Set Union of Lists  \n",
    "Define a function that performs union operation on two lists using sets.\n",
    "\n"
   ]
  },
  {
   "cell_type": "markdown",
   "id": "acb38f29",
   "metadata": {},
   "source": []
  },
  {
   "cell_type": "markdown",
   "id": "232ccc4b",
   "metadata": {},
   "source": [
    "### 20. Count Words in a Sentence  \n",
    "Write a function that returns the number of words in a sentence."
   ]
  },
  {
   "cell_type": "markdown",
   "id": "435dfe4f",
   "metadata": {},
   "source": []
  }
 ],
 "metadata": {
  "kernelspec": {
   "display_name": "Python 3 (ipykernel)",
   "language": "python",
   "name": "python3"
  },
  "language_info": {
   "codemirror_mode": {
    "name": "ipython",
    "version": 3
   },
   "file_extension": ".py",
   "mimetype": "text/x-python",
   "name": "python",
   "nbconvert_exporter": "python",
   "pygments_lexer": "ipython3",
   "version": "3.11.5"
  }
 },
 "nbformat": 4,
 "nbformat_minor": 5
}
