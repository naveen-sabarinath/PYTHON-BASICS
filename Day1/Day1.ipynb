{
 "cells": [
  {
   "cell_type": "markdown",
   "id": "1921d84b",
   "metadata": {},
   "source": [
    "# Day 1: Introduction to Data Science & Python Basics"
   ]
  },
  {
   "cell_type": "markdown",
   "id": "2f35e84b",
   "metadata": {},
   "source": [
    "Welcome to Day 1 of the Data Science Training Program!"
   ]
  },
  {
   "cell_type": "markdown",
   "id": "095034c4",
   "metadata": {},
   "source": [
    "## What is Data Science?"
   ]
  },
  {
   "cell_type": "markdown",
   "id": "6f9797cf",
   "metadata": {},
   "source": [
    "Data Science is the process of extracting insights from data using statistical, computational, and analytical techniques. It combines elements of statistics, computer science, and domain knowledge to solve real-world problems."
   ]
  },
  {
   "cell_type": "markdown",
   "id": "aa6c01de",
   "metadata": {},
   "source": [
    "## Why Python for Data Science?"
   ]
  },
  {
   "cell_type": "markdown",
   "id": "4cee9efc",
   "metadata": {},
   "source": [
    "- Easy to learn and read\n",
    "- Huge collection of libraries\n",
    "- Community support\n",
    "- Used by top companies like Google, Netflix, Facebook"
   ]
  },
  {
   "cell_type": "markdown",
   "id": "3382b011",
   "metadata": {},
   "source": [
    "## Setting up Python with Anaconda"
   ]
  },
  {
   "cell_type": "markdown",
   "id": "dc686904",
   "metadata": {},
   "source": [
    "You can install Python and the Jupyter Notebook environment using [Anaconda](https://www.anaconda.com/)."
   ]
  },
  {
   "cell_type": "markdown",
   "id": "44addf6d",
   "metadata": {},
   "source": [
    "## Python Basics: Variables, Data Types, and Operators"
   ]
  },
  {
   "cell_type": "markdown",
   "id": "401e5ddd",
   "metadata": {},
   "source": [
    "### Variables and Data Types"
   ]
  },
  {
   "cell_type": "code",
   "execution_count": null,
   "id": "4ad32f4b",
   "metadata": {},
   "outputs": [],
   "source": []
  },
  {
   "cell_type": "code",
   "execution_count": null,
   "id": "41c87022",
   "metadata": {},
   "outputs": [],
   "source": []
  },
  {
   "cell_type": "markdown",
   "id": "ccecf1e7",
   "metadata": {},
   "source": [
    "### Arithmetic Operators"
   ]
  },
  {
   "cell_type": "code",
   "execution_count": null,
   "id": "3cc31641",
   "metadata": {},
   "outputs": [],
   "source": []
  },
  {
   "cell_type": "markdown",
   "id": "563df5bc",
   "metadata": {},
   "source": [
    "### Comparison Operators"
   ]
  },
  {
   "cell_type": "code",
   "execution_count": null,
   "id": "f941ffc3",
   "metadata": {},
   "outputs": [],
   "source": []
  },
  {
   "cell_type": "markdown",
   "id": "02527043",
   "metadata": {},
   "source": [
    "### Logical Operators"
   ]
  },
  {
   "cell_type": "code",
   "execution_count": null,
   "id": "2dbffcb3",
   "metadata": {},
   "outputs": [],
   "source": []
  },
  {
   "cell_type": "markdown",
   "id": "831e977d",
   "metadata": {},
   "source": [
    "### Membership and Identity Operators"
   ]
  },
  {
   "cell_type": "code",
   "execution_count": null,
   "id": "5304d102",
   "metadata": {},
   "outputs": [],
   "source": []
  },
  {
   "cell_type": "code",
   "execution_count": null,
   "id": "0b46d3dd",
   "metadata": {},
   "outputs": [],
   "source": []
  },
  {
   "cell_type": "markdown",
   "id": "b0e7776a",
   "metadata": {},
   "source": [
    "## Mini Challenge - Your Personal Introduction"
   ]
  },
  {
   "cell_type": "code",
   "execution_count": null,
   "id": "a707dab1",
   "metadata": {},
   "outputs": [],
   "source": []
  },
  {
   "cell_type": "markdown",
   "id": "df8db294",
   "metadata": {},
   "source": [
    "## Summary"
   ]
  },
  {
   "cell_type": "markdown",
   "id": "b56e2273",
   "metadata": {},
   "source": [
    "- Data Science helps turn data into actionable insights\n",
    "- Python is widely used for Data Science\n",
    "- You learned how to declare variables, use different data types and apply operators"
   ]
  },
  {
   "cell_type": "markdown",
   "id": "98998161",
   "metadata": {},
   "source": [
    "## Practice Tasks"
   ]
  },
  {
   "cell_type": "markdown",
   "id": "c2d93b6a",
   "metadata": {},
   "source": [
    "1. Declare and print 5 different types of variables\n",
    "2. Perform all arithmetic operations on two numbers\n",
    "3. Use logical operators in if-else blocks\n",
    "4. Create a script that outputs your short bio using variables"
   ]
  }
 ],
 "metadata": {
  "kernelspec": {
   "display_name": "Python 3 (ipykernel)",
   "language": "python",
   "name": "python3"
  },
  "language_info": {
   "codemirror_mode": {
    "name": "ipython",
    "version": 3
   },
   "file_extension": ".py",
   "mimetype": "text/x-python",
   "name": "python",
   "nbconvert_exporter": "python",
   "pygments_lexer": "ipython3",
   "version": "3.11.5"
  }
 },
 "nbformat": 4,
 "nbformat_minor": 5
}
