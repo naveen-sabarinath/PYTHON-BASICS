{
 "cells": [
  {
   "cell_type": "markdown",
   "id": "1921d84b",
   "metadata": {},
   "source": [
    "# Day 1: Introduction to Data Science & Python Basics"
   ]
  },
  {
   "cell_type": "markdown",
   "id": "2f35e84b",
   "metadata": {},
   "source": [
    "Welcome to Day 1 of the Data Science Training Program!"
   ]
  },
  {
   "cell_type": "markdown",
   "id": "095034c4",
   "metadata": {},
   "source": [
    "## What is Data Science?"
   ]
  },
  {
   "cell_type": "markdown",
   "id": "6f9797cf",
   "metadata": {},
   "source": [
    "Data Science is the process of extracting insights from data using statistical, computational, and analytical techniques. It combines elements of statistics, computer science, and domain knowledge to solve real-world problems."
   ]
  },
  {
   "cell_type": "markdown",
   "id": "aa6c01de",
   "metadata": {},
   "source": [
    "## Why Python for Data Science?"
   ]
  },
  {
   "cell_type": "markdown",
   "id": "4cee9efc",
   "metadata": {},
   "source": [
    "- Easy to learn and read\n",
    "- Huge collection of libraries\n",
    "- Community support\n",
    "- Used by top companies like Google, Netflix, Facebook"
   ]
  },
  {
   "cell_type": "markdown",
   "id": "3382b011",
   "metadata": {},
   "source": [
    "## Setting up Python with Anaconda"
   ]
  },
  {
   "cell_type": "markdown",
   "id": "dc686904",
   "metadata": {},
   "source": [
    "You can install Python and the Jupyter Notebook environment using [Anaconda](https://www.anaconda.com/)."
   ]
  },
  {
   "cell_type": "code",
   "execution_count": 1,
   "id": "c65381d8-1ae4-45ff-a29f-94d5c65dbead",
   "metadata": {},
   "outputs": [
    {
     "name": "stdout",
     "output_type": "stream",
     "text": [
      "Hello World\n"
     ]
    }
   ],
   "source": [
    "print(\"Hello World\")"
   ]
  },
  {
   "cell_type": "code",
   "execution_count": 8,
   "id": "f662b16a-f985-4556-8b90-a674bf88bf3b",
   "metadata": {},
   "outputs": [
    {
     "name": "stdout",
     "output_type": "stream",
     "text": [
      "Hello World\n"
     ]
    }
   ],
   "source": [
    "print('Hello World')\n",
    "#This line will print hello world "
   ]
  },
  {
   "cell_type": "code",
   "execution_count": 5,
   "id": "96fc40d1-a4c7-4515-93bb-8b591cf7e145",
   "metadata": {},
   "outputs": [
    {
     "ename": "SyntaxError",
     "evalue": "incomplete input (353226650.py, line 1)",
     "output_type": "error",
     "traceback": [
      "\u001b[0;36m  Cell \u001b[0;32mIn[5], line 1\u001b[0;36m\u001b[0m\n\u001b[0;31m    print(\"Hello World\"\u001b[0m\n\u001b[0m                       ^\u001b[0m\n\u001b[0;31mSyntaxError\u001b[0m\u001b[0;31m:\u001b[0m incomplete input\n"
     ]
    }
   ],
   "source": [
    "print(\"Hello World\""
   ]
  },
  {
   "cell_type": "markdown",
   "id": "44addf6d",
   "metadata": {},
   "source": [
    "## Python Basics: Variables, Data Types, and Operators"
   ]
  },
  {
   "cell_type": "markdown",
   "id": "401e5ddd",
   "metadata": {},
   "source": [
    "### Variables and Data Types"
   ]
  },
  {
   "cell_type": "code",
   "execution_count": 12,
   "id": "4ad32f4b",
   "metadata": {},
   "outputs": [
    {
     "name": "stdout",
     "output_type": "stream",
     "text": [
      "a\n",
      "5\n"
     ]
    }
   ],
   "source": [
    "a=5\n",
    "print(\"a\")\n",
    "print(a)"
   ]
  },
  {
   "cell_type": "code",
   "execution_count": 13,
   "id": "41c87022",
   "metadata": {},
   "outputs": [],
   "source": [
    "hello = 6"
   ]
  },
  {
   "cell_type": "code",
   "execution_count": 14,
   "id": "3fcc0d79-32ed-48ef-b2d8-7b497e97d9e8",
   "metadata": {},
   "outputs": [],
   "source": [
    "hi_ = 5"
   ]
  },
  {
   "cell_type": "code",
   "execution_count": 15,
   "id": "c50a10a3-1e01-497c-81c7-dc7728452519",
   "metadata": {},
   "outputs": [
    {
     "ename": "SyntaxError",
     "evalue": "invalid syntax (418163335.py, line 1)",
     "output_type": "error",
     "traceback": [
      "\u001b[0;36m  Cell \u001b[0;32mIn[15], line 1\u001b[0;36m\u001b[0m\n\u001b[0;31m    hi& = 5\u001b[0m\n\u001b[0m        ^\u001b[0m\n\u001b[0;31mSyntaxError\u001b[0m\u001b[0;31m:\u001b[0m invalid syntax\n"
     ]
    }
   ],
   "source": [
    "hi& = 5"
   ]
  },
  {
   "cell_type": "code",
   "execution_count": 16,
   "id": "2716a078-6766-4446-bcf5-f1bf22a99bb5",
   "metadata": {},
   "outputs": [],
   "source": [
    "hi66 = 5"
   ]
  },
  {
   "cell_type": "code",
   "execution_count": 17,
   "id": "48ec4061-1a62-4ba7-99a7-e28051ab002d",
   "metadata": {},
   "outputs": [
    {
     "ename": "SyntaxError",
     "evalue": "invalid decimal literal (2563188540.py, line 1)",
     "output_type": "error",
     "traceback": [
      "\u001b[0;36m  Cell \u001b[0;32mIn[17], line 1\u001b[0;36m\u001b[0m\n\u001b[0;31m    66hi = 5\u001b[0m\n\u001b[0m     ^\u001b[0m\n\u001b[0;31mSyntaxError\u001b[0m\u001b[0;31m:\u001b[0m invalid decimal literal\n"
     ]
    }
   ],
   "source": [
    "66hi = 5"
   ]
  },
  {
   "cell_type": "code",
   "execution_count": 18,
   "id": "5ff6075c-58ca-49db-8820-f6232a4b587d",
   "metadata": {},
   "outputs": [
    {
     "ename": "SyntaxError",
     "evalue": "invalid syntax. Maybe you meant '==' or ':=' instead of '='? (1952638018.py, line 1)",
     "output_type": "error",
     "traceback": [
      "\u001b[0;36m  Cell \u001b[0;32mIn[18], line 1\u001b[0;36m\u001b[0m\n\u001b[0;31m    @hi = 5\u001b[0m\n\u001b[0m     ^\u001b[0m\n\u001b[0;31mSyntaxError\u001b[0m\u001b[0;31m:\u001b[0m invalid syntax. Maybe you meant '==' or ':=' instead of '='?\n"
     ]
    }
   ],
   "source": [
    "@hi = 5"
   ]
  },
  {
   "cell_type": "code",
   "execution_count": 19,
   "id": "f53ba211-8276-49ab-8201-a2135191ff8b",
   "metadata": {},
   "outputs": [],
   "source": [
    "_hi = 5"
   ]
  },
  {
   "cell_type": "code",
   "execution_count": 27,
   "id": "d41212f0-a691-44cf-96c4-db9c8417cf1c",
   "metadata": {},
   "outputs": [],
   "source": [
    "a = 5\n",
    "b = 5.0\n",
    "c = \"Hello\"\n",
    "d = True"
   ]
  },
  {
   "cell_type": "code",
   "execution_count": 23,
   "id": "550a0212-bc1d-482a-b5a5-4921a2c14546",
   "metadata": {},
   "outputs": [
    {
     "data": {
      "text/plain": [
       "int"
      ]
     },
     "execution_count": 23,
     "metadata": {},
     "output_type": "execute_result"
    }
   ],
   "source": [
    "type(a)"
   ]
  },
  {
   "cell_type": "code",
   "execution_count": 28,
   "id": "7a91ed35-5752-4a7c-a255-f58163bc58ed",
   "metadata": {},
   "outputs": [
    {
     "data": {
      "text/plain": [
       "float"
      ]
     },
     "execution_count": 28,
     "metadata": {},
     "output_type": "execute_result"
    }
   ],
   "source": [
    "type(b)"
   ]
  },
  {
   "cell_type": "code",
   "execution_count": 25,
   "id": "6bdd937c-ea47-4477-9f59-17772eb6c74d",
   "metadata": {},
   "outputs": [
    {
     "data": {
      "text/plain": [
       "str"
      ]
     },
     "execution_count": 25,
     "metadata": {},
     "output_type": "execute_result"
    }
   ],
   "source": [
    "type(c)"
   ]
  },
  {
   "cell_type": "code",
   "execution_count": 26,
   "id": "d6268f26-801a-4ca6-ad60-6cdc69fa81e6",
   "metadata": {},
   "outputs": [
    {
     "data": {
      "text/plain": [
       "bool"
      ]
     },
     "execution_count": 26,
     "metadata": {},
     "output_type": "execute_result"
    }
   ],
   "source": [
    "type(d)"
   ]
  },
  {
   "cell_type": "code",
   "execution_count": null,
   "id": "0ecbe24a-8ade-4adf-bf09-543681219466",
   "metadata": {},
   "outputs": [],
   "source": []
  },
  {
   "cell_type": "markdown",
   "id": "0675f918-3670-4db4-85fd-af223acd94b7",
   "metadata": {},
   "source": [
    "## Type Casting"
   ]
  },
  {
   "cell_type": "code",
   "execution_count": null,
   "id": "dbba5825-1cca-4ac5-9109-7a9547019b77",
   "metadata": {},
   "outputs": [],
   "source": [
    "int()\n",
    "float()\n",
    "str()\n",
    "bool()"
   ]
  },
  {
   "cell_type": "code",
   "execution_count": 34,
   "id": "4a1d4762-b90d-4e42-8e68-6880e13d5a12",
   "metadata": {},
   "outputs": [],
   "source": [
    "a = \"5\"\n",
    "a = int(a)"
   ]
  },
  {
   "cell_type": "code",
   "execution_count": 35,
   "id": "bcc57232-93f3-48f0-a463-c33bb3dbcb9c",
   "metadata": {},
   "outputs": [
    {
     "data": {
      "text/plain": [
       "int"
      ]
     },
     "execution_count": 35,
     "metadata": {},
     "output_type": "execute_result"
    }
   ],
   "source": [
    "type(a)"
   ]
  },
  {
   "cell_type": "code",
   "execution_count": 32,
   "id": "72cefdb7-d8d8-484f-841d-e334125b2771",
   "metadata": {},
   "outputs": [
    {
     "name": "stdout",
     "output_type": "stream",
     "text": [
      "5.0\n"
     ]
    }
   ],
   "source": [
    "print(a)"
   ]
  },
  {
   "cell_type": "code",
   "execution_count": null,
   "id": "f0c5bda2-25e6-43da-9b8c-af9de67e296a",
   "metadata": {},
   "outputs": [],
   "source": []
  },
  {
   "cell_type": "markdown",
   "id": "ccecf1e7",
   "metadata": {},
   "source": [
    "### Arithmetic Operators"
   ]
  },
  {
   "cell_type": "code",
   "execution_count": 41,
   "id": "3cc31641",
   "metadata": {},
   "outputs": [],
   "source": [
    "a = 5\n",
    "b = 2"
   ]
  },
  {
   "cell_type": "code",
   "execution_count": 37,
   "id": "92754f5c-aaae-442e-a692-75b60f7ff4d3",
   "metadata": {},
   "outputs": [],
   "source": [
    "c = a+b\n",
    "d = a-b\n",
    "e = a*b\n",
    "f = a/b"
   ]
  },
  {
   "cell_type": "code",
   "execution_count": 38,
   "id": "4cdbfc77-8df0-4202-9f93-ed6f3fa3c669",
   "metadata": {},
   "outputs": [
    {
     "name": "stdout",
     "output_type": "stream",
     "text": [
      "Addition :  11\n",
      "Substraction :  -1\n",
      "Multiplication :  30\n",
      "Division : 0.8333333333333334\n"
     ]
    }
   ],
   "source": [
    "print(\"Addition : \",c)\n",
    "print(\"Substraction : \",d)\n",
    "print(\"Multiplication : \",e)\n",
    "print(\"Division :\",f)"
   ]
  },
  {
   "cell_type": "code",
   "execution_count": 42,
   "id": "e369263a-a326-41b4-9458-552ef3c09a6f",
   "metadata": {},
   "outputs": [],
   "source": [
    "g = a%b\n",
    "h = a//b"
   ]
  },
  {
   "cell_type": "code",
   "execution_count": 43,
   "id": "35b77be1-910c-4087-8cd7-8f39cb42dadc",
   "metadata": {},
   "outputs": [
    {
     "name": "stdout",
     "output_type": "stream",
     "text": [
      "1\n",
      "2\n"
     ]
    }
   ],
   "source": [
    "print(g)\n",
    "print(h)"
   ]
  },
  {
   "cell_type": "markdown",
   "id": "563df5bc",
   "metadata": {},
   "source": [
    "### Comparison Operators"
   ]
  },
  {
   "cell_type": "code",
   "execution_count": 44,
   "id": "f941ffc3",
   "metadata": {},
   "outputs": [
    {
     "data": {
      "text/plain": [
       "False"
      ]
     },
     "execution_count": 44,
     "metadata": {},
     "output_type": "execute_result"
    }
   ],
   "source": [
    "a==b"
   ]
  },
  {
   "cell_type": "code",
   "execution_count": 45,
   "id": "1ac07c12-2b8a-4525-8335-1ae3e04f16ca",
   "metadata": {},
   "outputs": [
    {
     "data": {
      "text/plain": [
       "True"
      ]
     },
     "execution_count": 45,
     "metadata": {},
     "output_type": "execute_result"
    }
   ],
   "source": [
    "a>b"
   ]
  },
  {
   "cell_type": "code",
   "execution_count": 46,
   "id": "a72d456e-10ac-43cd-9d95-d8dad8ec1878",
   "metadata": {},
   "outputs": [
    {
     "data": {
      "text/plain": [
       "False"
      ]
     },
     "execution_count": 46,
     "metadata": {},
     "output_type": "execute_result"
    }
   ],
   "source": [
    "a<b"
   ]
  },
  {
   "cell_type": "code",
   "execution_count": 47,
   "id": "abbb6aee-c1c9-4e51-9144-007903951bf2",
   "metadata": {},
   "outputs": [
    {
     "data": {
      "text/plain": [
       "True"
      ]
     },
     "execution_count": 47,
     "metadata": {},
     "output_type": "execute_result"
    }
   ],
   "source": [
    "a>=b"
   ]
  },
  {
   "cell_type": "code",
   "execution_count": 48,
   "id": "cfe20a08-d90c-40d7-a9f5-9fefba5b23f4",
   "metadata": {},
   "outputs": [
    {
     "data": {
      "text/plain": [
       "False"
      ]
     },
     "execution_count": 48,
     "metadata": {},
     "output_type": "execute_result"
    }
   ],
   "source": [
    "a<=b"
   ]
  },
  {
   "cell_type": "code",
   "execution_count": 49,
   "id": "9c496e7a-8a0d-40e2-9867-7d3d9186e701",
   "metadata": {},
   "outputs": [
    {
     "data": {
      "text/plain": [
       "True"
      ]
     },
     "execution_count": 49,
     "metadata": {},
     "output_type": "execute_result"
    }
   ],
   "source": [
    "a!=b"
   ]
  },
  {
   "cell_type": "markdown",
   "id": "02527043",
   "metadata": {},
   "source": [
    "### Logical Operators"
   ]
  },
  {
   "cell_type": "code",
   "execution_count": 53,
   "id": "2dbffcb3",
   "metadata": {},
   "outputs": [
    {
     "name": "stdout",
     "output_type": "stream",
     "text": [
      "True\n"
     ]
    }
   ],
   "source": [
    "x = 6\n",
    "print(x>5 and x <12)"
   ]
  },
  {
   "cell_type": "code",
   "execution_count": 57,
   "id": "ee193c8e-6109-4824-bb33-6c1e0d1693b8",
   "metadata": {},
   "outputs": [
    {
     "name": "stdout",
     "output_type": "stream",
     "text": [
      "False\n"
     ]
    }
   ],
   "source": [
    "x = 13\n",
    "print(x<5 or x <12)"
   ]
  },
  {
   "cell_type": "code",
   "execution_count": 61,
   "id": "1b26e8e2-3b17-4fa4-bb8e-bd354e9ddacf",
   "metadata": {},
   "outputs": [
    {
     "data": {
      "text/plain": [
       "False"
      ]
     },
     "execution_count": 61,
     "metadata": {},
     "output_type": "execute_result"
    }
   ],
   "source": [
    "x = 9\n",
    "not(x>5)"
   ]
  },
  {
   "cell_type": "markdown",
   "id": "831e977d",
   "metadata": {},
   "source": [
    "### Membership and Identity Operators"
   ]
  },
  {
   "cell_type": "code",
   "execution_count": null,
   "id": "5304d102",
   "metadata": {},
   "outputs": [],
   "source": []
  },
  {
   "cell_type": "code",
   "execution_count": null,
   "id": "0b46d3dd",
   "metadata": {},
   "outputs": [],
   "source": []
  },
  {
   "cell_type": "markdown",
   "id": "b0e7776a",
   "metadata": {},
   "source": [
    "## Mini Challenge - Your Personal Introduction"
   ]
  },
  {
   "cell_type": "code",
   "execution_count": null,
   "id": "a707dab1",
   "metadata": {},
   "outputs": [],
   "source": []
  },
  {
   "cell_type": "markdown",
   "id": "df8db294",
   "metadata": {},
   "source": [
    "## Summary"
   ]
  },
  {
   "cell_type": "markdown",
   "id": "b56e2273",
   "metadata": {},
   "source": [
    "- Data Science helps turn data into actionable insights\n",
    "- Python is widely used for Data Science\n",
    "- You learned how to declare variables, use different data types and apply operators"
   ]
  },
  {
   "cell_type": "markdown",
   "id": "98998161",
   "metadata": {},
   "source": [
    "## Practice Tasks"
   ]
  },
  {
   "cell_type": "markdown",
   "id": "c2d93b6a",
   "metadata": {},
   "source": [
    "1. Declare and print 5 different types of variables\n",
    "2. Perform all arithmetic operations on two numbers\n",
    "3. Use logical operators in if-else blocks\n",
    "4. Create a script that outputs your short bio using variables"
   ]
  }
 ],
 "metadata": {
  "kernelspec": {
   "display_name": "Python 3 (ipykernel)",
   "language": "python",
   "name": "python3"
  },
  "language_info": {
   "codemirror_mode": {
    "name": "ipython",
    "version": 3
   },
   "file_extension": ".py",
   "mimetype": "text/x-python",
   "name": "python",
   "nbconvert_exporter": "python",
   "pygments_lexer": "ipython3",
   "version": "3.11.5"
  }
 },
 "nbformat": 4,
 "nbformat_minor": 5
}
