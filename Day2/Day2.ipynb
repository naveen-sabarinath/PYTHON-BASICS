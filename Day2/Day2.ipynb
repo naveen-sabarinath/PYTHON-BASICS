{
 "cells": [
  {
   "cell_type": "markdown",
   "id": "769208cd",
   "metadata": {},
   "source": [
    "# Python Conditional Statements and Loops - Practice Problems\n",
    "These problems are designed to strengthen your understanding of conditional statements and loops in Python. You can practice live coding these examples during the session."
   ]
  },
  {
   "cell_type": "markdown",
   "id": "015563d2",
   "metadata": {},
   "source": [
    "## Conditional Statements Practice Problems"
   ]
  },
  {
   "cell_type": "code",
   "execution_count": 7,
   "id": "7111b389-4616-4f8f-ba00-dec8d0af9d82",
   "metadata": {},
   "outputs": [
    {
     "name": "stdout",
     "output_type": "stream",
     "text": [
      "Hi\n"
     ]
    }
   ],
   "source": [
    "a = 3\n",
    "\n",
    "if a == 4:\n",
    "    print(\"Hello\")\n",
    "elif a >4:\n",
    "    print(\"Hola\")\n",
    "else:\n",
    "    print(\"Hi\")"
   ]
  },
  {
   "cell_type": "markdown",
   "id": "0833869a-327e-4a27-b9f6-3a9f78ab2375",
   "metadata": {},
   "source": [
    "### Input()"
   ]
  },
  {
   "cell_type": "code",
   "execution_count": 14,
   "id": "4cbc8cec-9df8-4ba3-8c54-6439b8e2b7ba",
   "metadata": {},
   "outputs": [
    {
     "name": "stdin",
     "output_type": "stream",
     "text": [
      "Enter the 1st Number :  5\n",
      "Enter the 2nd Number :  6\n"
     ]
    },
    {
     "name": "stdout",
     "output_type": "stream",
     "text": [
      "The Numbers are :  5 6\n"
     ]
    }
   ],
   "source": [
    "a = int(input(\"Enter the 1st Number : \")) # User will give the value in runtime\n",
    "b = int(input (\"Enter the 2nd Number : \"))\n",
    "print(\"The Numbers are : \",a,b)\n",
    "c = a+b"
   ]
  },
  {
   "cell_type": "code",
   "execution_count": 15,
   "id": "bd082422-cf12-4565-870d-5bf4cb7f4c92",
   "metadata": {},
   "outputs": [
    {
     "name": "stdout",
     "output_type": "stream",
     "text": [
      "11\n"
     ]
    }
   ],
   "source": [
    "print(c)"
   ]
  },
  {
   "cell_type": "code",
   "execution_count": 16,
   "id": "41903ff8-8b39-49c9-ba94-469603ba549a",
   "metadata": {},
   "outputs": [
    {
     "data": {
      "text/plain": [
       "int"
      ]
     },
     "execution_count": 16,
     "metadata": {},
     "output_type": "execute_result"
    }
   ],
   "source": [
    "type(a)"
   ]
  },
  {
   "cell_type": "markdown",
   "id": "85e43786",
   "metadata": {},
   "source": [
    "### Example 1: Age Group Classifier\n",
    "- **Problem Statement**: Write a Python program that classifies a given age into categories: Child (0-12), Teen (13-19), Adult (20-64), Senior (65+).\n",
    "- **Concepts Covered**: if, elif, else"
   ]
  },
  {
   "cell_type": "code",
   "execution_count": 25,
   "id": "1cfb1188-0e33-4b0d-8510-a728305e1b07",
   "metadata": {},
   "outputs": [
    {
     "name": "stdin",
     "output_type": "stream",
     "text": [
      " Enter Your Age :  11\n"
     ]
    },
    {
     "name": "stdout",
     "output_type": "stream",
     "text": [
      " Child \n"
     ]
    }
   ],
   "source": [
    "age = int(input(\" Enter Your Age : \"))\n",
    "\n",
    "if age <0 :\n",
    "    print(\"Invalid\")\n",
    "elif age <= 12:\n",
    "    print(\" Child \")\n",
    "elif age <= 19 : \n",
    "    print(\" Teen \")\n",
    "elif age <= 64:\n",
    "    print(\"Adult\")\n",
    "else:\n",
    "    print(\" Senior \")"
   ]
  },
  {
   "cell_type": "code",
   "execution_count": null,
   "id": "cfc69af9-4a70-4beb-9705-53338a9b9f5b",
   "metadata": {},
   "outputs": [],
   "source": []
  },
  {
   "cell_type": "code",
   "execution_count": null,
   "id": "89a7d5b1-d925-45da-b3b0-eb83c07007ec",
   "metadata": {},
   "outputs": [],
   "source": []
  },
  {
   "cell_type": "markdown",
   "id": "2e221fb7",
   "metadata": {},
   "source": [
    "### Example 2: Grade Evaluation\n",
    "- **Problem Statement**: Write a Python program to take a student's score and assign grades according to the following criteria:\n",
    "  - A: 90-100\n",
    "  - B: 80-89\n",
    "  - C: 70-79\n",
    "  - D: 60-69\n",
    "  - F: Below 60\n",
    "- **Concepts Covered**: Nested if, elif, else"
   ]
  },
  {
   "cell_type": "code",
   "execution_count": 31,
   "id": "c52810c9-0e4c-40ec-99e1-ada863853c26",
   "metadata": {},
   "outputs": [
    {
     "name": "stdin",
     "output_type": "stream",
     "text": [
      "Enter your Score : 65\n"
     ]
    },
    {
     "name": "stdout",
     "output_type": "stream",
     "text": [
      "Grade D\n"
     ]
    }
   ],
   "source": [
    "score = int(input(\"Enter your Score :\"))\n",
    "\n",
    "if score < 0 and score >100:\n",
    "    print(\"Invalid Scores !!\")\n",
    "else:\n",
    "    if score >=90:\n",
    "        print(\" Grade A\")\n",
    "    elif score >= 80:\n",
    "        print(\"Grade B\")\n",
    "    elif score >= 70:\n",
    "        print(\"Grade C\")\n",
    "    elif score >= 60:\n",
    "        print(\"Grade D\")\n",
    "    else:\n",
    "        print(\"Grade F\")"
   ]
  },
  {
   "cell_type": "code",
   "execution_count": null,
   "id": "9ad16b12-4dfc-406d-babb-5e23106f3434",
   "metadata": {},
   "outputs": [],
   "source": []
  },
  {
   "cell_type": "code",
   "execution_count": null,
   "id": "fdf2e52a-9013-48dd-875b-d20f4c51e5c7",
   "metadata": {},
   "outputs": [],
   "source": []
  },
  {
   "cell_type": "code",
   "execution_count": null,
   "id": "7f1994ef-a450-4032-8a34-bc750ff89c0b",
   "metadata": {},
   "outputs": [],
   "source": []
  },
  {
   "cell_type": "markdown",
   "id": "d311d6c7",
   "metadata": {},
   "source": [
    "### Example 3: User Authentication Simulation\n",
    "- **Problem Statement**: Simulate a login system that checks username and password. Allow three attempts before locking out the user.\n",
    "- **Concepts Covered**: if, else, loops"
   ]
  },
  {
   "cell_type": "markdown",
   "id": "2f655e45",
   "metadata": {},
   "source": [
    "## Loop Constructs Practice Problems"
   ]
  },
  {
   "cell_type": "markdown",
   "id": "2bf55a4d",
   "metadata": {},
   "source": [
    "### Example 4: Multiplication Table Generator\n",
    "- **Problem Statement**: Generate a multiplication table for a number entered by the user using loops.\n",
    "- **Concepts Covered**: for loop, range function"
   ]
  },
  {
   "cell_type": "markdown",
   "id": "f3abc400",
   "metadata": {},
   "source": [
    "### Example 5: Factorial Calculator\n",
    "- **Problem Statement**: Calculate the factorial of a number using both for and while loops.\n",
    "- **Concepts Covered**: for loop, while loop"
   ]
  },
  {
   "cell_type": "markdown",
   "id": "7ff6c0f1",
   "metadata": {},
   "source": [
    "### Example 6: Prime Number Checker\n",
    "- **Problem Statement**: Write a Python program to check if a number is prime or not using loops.\n",
    "- **Concepts Covered**: for loop, if-else statements, loop breaks"
   ]
  },
  {
   "cell_type": "markdown",
   "id": "1316dd99",
   "metadata": {},
   "source": [
    "## Loop Control Statements Practice Problems"
   ]
  },
  {
   "cell_type": "markdown",
   "id": "349f60ef",
   "metadata": {},
   "source": [
    "### Example 7: Number Skipper\n",
    "- **Problem Statement**: Write a Python program that prints numbers from 1 to 10 but skips numbers divisible by 3 using `continue`.\n",
    "- **Concepts Covered**: continue statement"
   ]
  },
  {
   "cell_type": "markdown",
   "id": "e453b11d",
   "metadata": {},
   "source": [
    "### Example 8: First Negative Finder\n",
    "- **Problem Statement**: Given a list of numbers, find and print the first negative number. Stop the loop immediately after finding the negative number using `break`.\n",
    "- **Concepts Covered**: break statement"
   ]
  },
  {
   "cell_type": "markdown",
   "id": "ff8a1170",
   "metadata": {},
   "source": [
    "### Example 9: Pass Usage\n",
    "- **Problem Statement**: Write a Python loop that iterates over a list and uses `pass` for any even number, while printing odd numbers.\n",
    "- **Concepts Covered**: pass statement"
   ]
  },
  {
   "cell_type": "markdown",
   "id": "41992d8c",
   "metadata": {},
   "source": [
    "## Nested Loops Practice Problems"
   ]
  },
  {
   "cell_type": "markdown",
   "id": "3bd91b29",
   "metadata": {},
   "source": [
    "### Example 10: Pattern Printing\n",
    "- **Problem Statement**: Print a right-angled triangle pattern of '*' with a given number of rows using nested loops.\n",
    "- **Concepts Covered**: nested loops"
   ]
  },
  {
   "cell_type": "markdown",
   "id": "b4120519",
   "metadata": {},
   "source": [
    "### Example 11: Nested Loop Multiplication Table\n",
    "- **Problem Statement**: Generate a multiplication table from 1 to 5 using nested loops.\n",
    "- **Concepts Covered**: nested loops, formatting"
   ]
  },
  {
   "cell_type": "markdown",
   "id": "7acc1522",
   "metadata": {},
   "source": [
    "## Complex Problem-Solving"
   ]
  },
  {
   "cell_type": "markdown",
   "id": "2733ae6f",
   "metadata": {},
   "source": [
    "### Example 12: Number Guessing Game\n",
    "- **Problem Statement**: Write a Python program for a simple number guessing game. Allow the user unlimited guesses, but provide hints if the guess is too high or too low.\n",
    "- **Concepts Covered**: loops, conditional logic, user interaction"
   ]
  },
  {
   "cell_type": "markdown",
   "id": "7e63accd",
   "metadata": {},
   "source": [
    "### Example 13: FizzBuzz Challenge\n",
    "- **Problem Statement**: Print numbers from 1 to 100. For multiples of 3, print 'Fizz', for multiples of 5 print 'Buzz', and for multiples of both 3 and 5 print 'FizzBuzz'.\n",
    "- **Concepts Covered**: loops, multiple conditions"
   ]
  }
 ],
 "metadata": {
  "kernelspec": {
   "display_name": "Python 3 (ipykernel)",
   "language": "python",
   "name": "python3"
  },
  "language_info": {
   "codemirror_mode": {
    "name": "ipython",
    "version": 3
   },
   "file_extension": ".py",
   "mimetype": "text/x-python",
   "name": "python",
   "nbconvert_exporter": "python",
   "pygments_lexer": "ipython3",
   "version": "3.11.5"
  }
 },
 "nbformat": 4,
 "nbformat_minor": 5
}
