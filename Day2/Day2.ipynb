{
 "cells": [
  {
   "cell_type": "markdown",
   "id": "769208cd",
   "metadata": {},
   "source": [
    "# Python Conditional Statements and Loops - Practice Problems\n",
    "These problems are designed to strengthen your understanding of conditional statements and loops in Python. You can practice live coding these examples during the session."
   ]
  },
  {
   "cell_type": "markdown",
   "id": "015563d2",
   "metadata": {},
   "source": [
    "## Conditional Statements Practice Problems"
   ]
  },
  {
   "cell_type": "code",
   "execution_count": 7,
   "id": "7111b389-4616-4f8f-ba00-dec8d0af9d82",
   "metadata": {},
   "outputs": [
    {
     "name": "stdout",
     "output_type": "stream",
     "text": [
      "Hi\n"
     ]
    }
   ],
   "source": [
    "a = 3\n",
    "\n",
    "if a == 4:\n",
    "    print(\"Hello\")\n",
    "elif a >4:\n",
    "    print(\"Hola\")\n",
    "else:\n",
    "    print(\"Hi\")"
   ]
  },
  {
   "cell_type": "markdown",
   "id": "0833869a-327e-4a27-b9f6-3a9f78ab2375",
   "metadata": {},
   "source": [
    "### Input()"
   ]
  },
  {
   "cell_type": "code",
   "execution_count": 14,
   "id": "4cbc8cec-9df8-4ba3-8c54-6439b8e2b7ba",
   "metadata": {},
   "outputs": [
    {
     "name": "stdout",
     "output_type": "stream",
     "text": [
      "Enter the 1st Number :  5\n",
      "Enter the 2nd Number :  6\n"
     ]
    },
    {
     "name": "stdout",
     "output_type": "stream",
     "text": [
      "The Numbers are :  5 6\n"
     ]
    }
   ],
   "source": [
    "a = int(input(\"Enter the 1st Number : \")) # User will give the value in runtime\n",
    "b = int(input (\"Enter the 2nd Number : \"))\n",
    "print(\"The Numbers are : \",a,b)\n",
    "c = a+b"
   ]
  },
  {
   "cell_type": "code",
   "execution_count": 15,
   "id": "bd082422-cf12-4565-870d-5bf4cb7f4c92",
   "metadata": {},
   "outputs": [
    {
     "name": "stdout",
     "output_type": "stream",
     "text": [
      "11\n"
     ]
    }
   ],
   "source": [
    "print(c)"
   ]
  },
  {
   "cell_type": "code",
   "execution_count": 16,
   "id": "41903ff8-8b39-49c9-ba94-469603ba549a",
   "metadata": {},
   "outputs": [
    {
     "data": {
      "text/plain": [
       "int"
      ]
     },
     "execution_count": 16,
     "metadata": {},
     "output_type": "execute_result"
    }
   ],
   "source": [
    "type(a)"
   ]
  },
  {
   "cell_type": "markdown",
   "id": "85e43786",
   "metadata": {},
   "source": [
    "### Example 1: Age Group Classifier\n",
    "- **Problem Statement**: Write a Python program that classifies a given age into categories: Child (0-12), Teen (13-19), Adult (20-64), Senior (65+).\n",
    "- **Concepts Covered**: if, elif, else"
   ]
  },
  {
   "cell_type": "code",
   "execution_count": 25,
   "id": "1cfb1188-0e33-4b0d-8510-a728305e1b07",
   "metadata": {},
   "outputs": [
    {
     "name": "stdout",
     "output_type": "stream",
     "text": [
      " Enter Your Age :  11\n"
     ]
    },
    {
     "name": "stdout",
     "output_type": "stream",
     "text": [
      " Child \n"
     ]
    }
   ],
   "source": [
    "age = int(input(\" Enter Your Age : \"))\n",
    "\n",
    "if age <0 :\n",
    "    print(\"Invalid\")\n",
    "elif age <= 12:\n",
    "    print(\" Child \")\n",
    "elif age <= 19 : \n",
    "    print(\" Teen \")\n",
    "elif age <= 64:\n",
    "    print(\"Adult\")\n",
    "else:\n",
    "    print(\" Senior \")"
   ]
  },
  {
   "cell_type": "code",
   "execution_count": null,
   "id": "cfc69af9-4a70-4beb-9705-53338a9b9f5b",
   "metadata": {},
   "outputs": [],
   "source": []
  },
  {
   "cell_type": "code",
   "execution_count": null,
   "id": "89a7d5b1-d925-45da-b3b0-eb83c07007ec",
   "metadata": {},
   "outputs": [],
   "source": []
  },
  {
   "cell_type": "markdown",
   "id": "2e221fb7",
   "metadata": {},
   "source": [
    "### Example 2: Grade Evaluation\n",
    "- **Problem Statement**: Write a Python program to take a student's score and assign grades according to the following criteria:\n",
    "  - A: 90-100\n",
    "  - B: 80-89\n",
    "  - C: 70-79\n",
    "  - D: 60-69\n",
    "  - F: Below 60\n",
    "- **Concepts Covered**: Nested if, elif, else"
   ]
  },
  {
   "cell_type": "code",
   "execution_count": 31,
   "id": "c52810c9-0e4c-40ec-99e1-ada863853c26",
   "metadata": {},
   "outputs": [
    {
     "name": "stdout",
     "output_type": "stream",
     "text": [
      "Enter your Score : 65\n"
     ]
    },
    {
     "name": "stdout",
     "output_type": "stream",
     "text": [
      "Grade D\n"
     ]
    }
   ],
   "source": [
    "score = int(input(\"Enter your Score :\"))\n",
    "\n",
    "if score < 0 and score >100:\n",
    "    print(\"Invalid Scores !!\")\n",
    "else:\n",
    "    if score >=90:\n",
    "        print(\" Grade A\")\n",
    "    elif score >= 80:\n",
    "        print(\"Grade B\")\n",
    "    elif score >= 70:\n",
    "        print(\"Grade C\")\n",
    "    elif score >= 60:\n",
    "        print(\"Grade D\")\n",
    "    else:\n",
    "        print(\"Grade F\")"
   ]
  },
  {
   "cell_type": "markdown",
   "id": "d311d6c7",
   "metadata": {},
   "source": [
    "### Example 3: User Authentication Simulation\n",
    "- **Problem Statement**: Simulate a login system that checks username and password. Allow three attempts before locking out the user.\n",
    "- **Concepts Covered**: if, else, loops"
   ]
  },
  {
   "cell_type": "code",
   "execution_count": 4,
   "id": "9471cbc9",
   "metadata": {},
   "outputs": [
    {
     "name": "stdout",
     "output_type": "stream",
     "text": [
      "Create your User name and password\n",
      "Incorrect password, try again\n",
      "Incorrect password, try again\n",
      "Incorrect password, try again\n",
      "You have entered the wrong password 3 times, please try again later.\n"
     ]
    }
   ],
   "source": [
    "print(\"Create your User name and password\")\n",
    "user = input(\"Enter your username:\")\n",
    "k = input(\"Entr the password:\")\n",
    "i = 0\n",
    "while (i < 3):\n",
    "    password = input(\"Enter your password:\")\n",
    "    usr = input(\"Enter your username:\")\n",
    "    if usr == user and password == k:\n",
    "        print(\"correct pasword\")\n",
    "        break\n",
    "    else:\n",
    "        print(\"Incorrect password, try again\")\n",
    "        i += 1\n",
    "        if i == 3:\n",
    "            print(\"You have entered the wrong password 3 times, please try again later.\")\n",
    "    \n",
    "\n"
   ]
  },
  {
   "cell_type": "markdown",
   "id": "2f655e45",
   "metadata": {},
   "source": [
    "## Loop Constructs Practice Problems"
   ]
  },
  {
   "cell_type": "markdown",
   "id": "2bf55a4d",
   "metadata": {},
   "source": [
    "### Example 4: Multiplication Table Generator\n",
    "- **Problem Statement**: Generate a multiplication table for a number entered by the user using loops.\n",
    "- **Concepts Covered**: for loop, range function"
   ]
  },
  {
   "cell_type": "code",
   "execution_count": 5,
   "id": "f99baf4e",
   "metadata": {},
   "outputs": [
    {
     "name": "stdout",
     "output_type": "stream",
     "text": [
      "10*1=10\n",
      "10*2=20\n",
      "10*3=30\n",
      "10*4=40\n",
      "10*5=50\n",
      "10*6=60\n",
      "10*7=70\n",
      "10*8=80\n",
      "10*9=90\n",
      "10*10=100\n"
     ]
    }
   ],
   "source": [
    "n = int(input(\"enter the table number: \"))\n",
    "for i in range(1,n+1):\n",
    "    print(f\"{n}*{i}={n*i}\")\n",
    "    "
   ]
  },
  {
   "cell_type": "markdown",
   "id": "f3abc400",
   "metadata": {},
   "source": [
    "### Example 5: Factorial Calculator\n",
    "- **Problem Statement**: Calculate the factorial of a number using both for and while loops.\n",
    "- **Concepts Covered**: for loop, while loop"
   ]
  },
  {
   "cell_type": "code",
   "execution_count": 8,
   "id": "2a6f10b0",
   "metadata": {},
   "outputs": [
    {
     "name": "stdout",
     "output_type": "stream",
     "text": [
      "The factorial of 5 is 120\n",
      "The factorial of 5 is 120\n"
     ]
    }
   ],
   "source": [
    "n = int(input(\"Enter a number: \"))\n",
    "r = 1\n",
    "d =1\n",
    "for i in range(1,n+1):\n",
    "    r *= i \n",
    "print(f\"The factorial of {n} is {r}\")\n",
    "while (i<n):\n",
    "    i =i+1\n",
    "    d = d*i\n",
    "print(f\"The factorial of {n} is {r}\")"
   ]
  },
  {
   "cell_type": "markdown",
   "id": "7ff6c0f1",
   "metadata": {},
   "source": [
    "### Example 6: Prime Number Checker\n",
    "- **Problem Statement**: Write a Python program to check if a number is prime or not using loops.\n",
    "- **Concepts Covered**: for loop, if-else statements, loop breaks"
   ]
  },
  {
   "cell_type": "code",
   "execution_count": 15,
   "id": "afbc4667",
   "metadata": {},
   "outputs": [
    {
     "name": "stdout",
     "output_type": "stream",
     "text": [
      "The number is prime\n"
     ]
    }
   ],
   "source": [
    "n = int(input(\"Enter a number: \"))\n",
    "if(n ==2 and n==3):\n",
    "    print(\"The number is prime\")\n",
    "elif (n%2 !=0 and n%3 !=0):\n",
    "    print(\"The number is prime\")\n",
    "else:\n",
    "    print(\"The number is not prime\")"
   ]
  },
  {
   "cell_type": "markdown",
   "id": "1316dd99",
   "metadata": {},
   "source": [
    "## Loop Control Statements Practice Problems"
   ]
  },
  {
   "cell_type": "markdown",
   "id": "349f60ef",
   "metadata": {},
   "source": [
    "### Example 7: Number Skipper\n",
    "- **Problem Statement**: Write a Python program that prints numbers from 1 to 10 but skips numbers divisible by 3 using `continue`.\n",
    "- **Concepts Covered**: continue statement"
   ]
  },
  {
   "cell_type": "code",
   "execution_count": 16,
   "id": "4a6aedde",
   "metadata": {},
   "outputs": [
    {
     "name": "stdout",
     "output_type": "stream",
     "text": [
      "1\n",
      "2\n",
      "4\n",
      "5\n",
      "7\n",
      "8\n",
      "10\n"
     ]
    }
   ],
   "source": [
    "for i in range(1,11):\n",
    "    if i % 3 == 0:\n",
    "        continue\n",
    "    print(i)"
   ]
  },
  {
   "cell_type": "markdown",
   "id": "e453b11d",
   "metadata": {},
   "source": [
    "### Example 8: First Negative Finder\n",
    "- **Problem Statement**: Given a list of numbers, find and print the first negative number. Stop the loop immediately after finding the negative number using `break`.\n",
    "- **Concepts Covered**: break statement"
   ]
  },
  {
   "cell_type": "code",
   "execution_count": 17,
   "id": "9c3823cb",
   "metadata": {},
   "outputs": [
    {
     "name": "stdout",
     "output_type": "stream",
     "text": [
      "1\n",
      "2\n",
      "3\n"
     ]
    }
   ],
   "source": [
    "n = [1,2,3,-5,6,78,9,0,-1]\n",
    "for i in n:\n",
    "    if i< 0:\n",
    "        break\n",
    "    else:\n",
    "        print(i)\n",
    "\n",
    "        "
   ]
  },
  {
   "cell_type": "markdown",
   "id": "ff8a1170",
   "metadata": {},
   "source": [
    "### Example 9: Pass Usage\n",
    "- **Problem Statement**: Write a Python loop that iterates over a list and uses `pass` for any even number, while printing odd numbers.\n",
    "- **Concepts Covered**: pass statement"
   ]
  },
  {
   "cell_type": "code",
   "execution_count": 18,
   "id": "8b9fc1c0",
   "metadata": {},
   "outputs": [
    {
     "name": "stdout",
     "output_type": "stream",
     "text": [
      "1\n",
      "3\n",
      "5\n",
      "7\n",
      "9\n"
     ]
    }
   ],
   "source": [
    "n =  [1,2,3,4,5,6,7,8,9]\n",
    "for i in n:\n",
    "    if i%2 ==0:\n",
    "        continue\n",
    "    else:\n",
    "        print(i)"
   ]
  },
  {
   "cell_type": "markdown",
   "id": "41992d8c",
   "metadata": {},
   "source": [
    "## Nested Loops Practice Problems"
   ]
  },
  {
   "cell_type": "markdown",
   "id": "3bd91b29",
   "metadata": {},
   "source": [
    "### Example 10: Pattern Printing\n",
    "- **Problem Statement**: Print a right-angled triangle pattern of '*' with a given number of rows using nested loops.\n",
    "- **Concepts Covered**: nested loops"
   ]
  },
  {
   "cell_type": "code",
   "execution_count": 26,
   "id": "4d4a1d06",
   "metadata": {},
   "outputs": [
    {
     "name": "stdout",
     "output_type": "stream",
     "text": [
      "*\n",
      "**\n",
      "***\n",
      "****\n",
      "*****\n"
     ]
    }
   ],
   "source": [
    "p =\"*\"\n",
    "for i in range(1,6):\n",
    "    for j in range(1,i+1):\n",
    "        print(p,end=\"\")\n",
    "    print()"
   ]
  },
  {
   "cell_type": "markdown",
   "id": "b4120519",
   "metadata": {},
   "source": [
    "### Example 11: Nested Loop Multiplication Table\n",
    "- **Problem Statement**: Generate a multiplication table from 1 to 5 using nested loops.\n",
    "- **Concepts Covered**: nested loops, formatting"
   ]
  },
  {
   "cell_type": "code",
   "execution_count": 29,
   "id": "6021d217",
   "metadata": {},
   "outputs": [
    {
     "name": "stdout",
     "output_type": "stream",
     "text": [
      "1 * 1 = 1\t1 * 2 = 2\t1 * 3 = 3\t1 * 4 = 4\t\n",
      "2 * 1 = 2\t2 * 2 = 4\t2 * 3 = 6\t2 * 4 = 8\t\n",
      "3 * 1 = 3\t3 * 2 = 6\t3 * 3 = 9\t3 * 4 = 12\t\n",
      "4 * 1 = 4\t4 * 2 = 8\t4 * 3 = 12\t4 * 4 = 16\t\n",
      "5 * 1 = 5\t5 * 2 = 10\t5 * 3 = 15\t5 * 4 = 20\t\n",
      "6 * 1 = 6\t6 * 2 = 12\t6 * 3 = 18\t6 * 4 = 24\t\n",
      "7 * 1 = 7\t7 * 2 = 14\t7 * 3 = 21\t7 * 4 = 28\t\n",
      "8 * 1 = 8\t8 * 2 = 16\t8 * 3 = 24\t8 * 4 = 32\t\n",
      "9 * 1 = 9\t9 * 2 = 18\t9 * 3 = 27\t9 * 4 = 36\t\n",
      "10 * 1 = 10\t10 * 2 = 20\t10 * 3 = 30\t10 * 4 = 40\t\n"
     ]
    }
   ],
   "source": [
    "for i in range(1,11):\n",
    "    for j in range(1,5):\n",
    "        print(f\"{i} * {j} = {i*j}\", end=\"\\t\")\n",
    "    print()"
   ]
  },
  {
   "cell_type": "markdown",
   "id": "7acc1522",
   "metadata": {},
   "source": [
    "## Complex Problem-Solving"
   ]
  },
  {
   "cell_type": "markdown",
   "id": "2733ae6f",
   "metadata": {},
   "source": [
    "### Example 12: Number Guessing Game\n",
    "- **Problem Statement**: Write a Python program for a simple number guessing game. Allow the user unlimited guesses, but provide hints if the guess is too high or too low.\n",
    "- **Concepts Covered**: loops, conditional logic, user interaction"
   ]
  },
  {
   "cell_type": "markdown",
   "id": "7e63accd",
   "metadata": {},
   "source": [
    "### Example 13: FizzBuzz Challenge\n",
    "- **Problem Statement**: Print numbers from 1 to 100. For multiples of 3, print 'Fizz', for multiples of 5 print 'Buzz', and for multiples of both 3 and 5 print 'FizzBuzz'.\n",
    "- **Concepts Covered**: loops, multiple conditions"
   ]
  },
  {
   "cell_type": "code",
   "execution_count": null,
   "id": "c0fdb64a",
   "metadata": {},
   "outputs": [
    {
     "ename": "IndexError",
     "evalue": "list index out of range",
     "output_type": "error",
     "traceback": [
      "\u001b[1;31m---------------------------------------------------------------------------\u001b[0m",
      "\u001b[1;31mIndexError\u001b[0m                                Traceback (most recent call last)",
      "Cell \u001b[1;32mIn[58], line 5\u001b[0m\n\u001b[0;32m      3\u001b[0m r \u001b[38;5;241m=\u001b[39m []\n\u001b[0;32m      4\u001b[0m \u001b[38;5;28;01mfor\u001b[39;00m i \u001b[38;5;129;01min\u001b[39;00m \u001b[38;5;28mrange\u001b[39m(\u001b[38;5;28mlen\u001b[39m(l)\u001b[38;5;241m-\u001b[39m\u001b[38;5;241m1\u001b[39m):\n\u001b[1;32m----> 5\u001b[0m     \u001b[38;5;28;01mif\u001b[39;00m (\u001b[38;5;28mabs\u001b[39m(l[i\u001b[38;5;241m+\u001b[39m\u001b[38;5;241m1\u001b[39m]\u001b[38;5;241m-\u001b[39ml[i])\u001b[38;5;241m>\u001b[39mp \u001b[38;5;129;01mor\u001b[39;00m \u001b[38;5;28mabs\u001b[39m(l[\u001b[38;5;28mlen\u001b[39m(l)\u001b[38;5;241m-\u001b[39ml[\u001b[38;5;241m0\u001b[39m]])\u001b[38;5;241m>\u001b[39mp):\n\u001b[0;32m      6\u001b[0m         r\u001b[38;5;241m.\u001b[39mappend(\u001b[38;5;124m\"\u001b[39m\u001b[38;5;124m1\u001b[39m\u001b[38;5;124m\"\u001b[39m)\n\u001b[0;32m      7\u001b[0m     \u001b[38;5;28;01melse\u001b[39;00m:\n",
      "\u001b[1;31mIndexError\u001b[0m: list index out of range"
     ]
    }
   ],
   "source": [
    "k,p = map(int,input().split())\n",
    "l=list(map(int,input().split()))\n",
    "r = []\n",
    "for i in range(len(l)-1):\n",
    "    if (abs(l[i+1]-l[i])>p or abs(l[len(l)]-l[0])>p):\n",
    "        r.append(\"1\")\n",
    "    else:\n",
    "        r.append(\"0\")\n",
    "print(\" \".join(r))"
   ]
  },
  {
   "cell_type": "code",
   "execution_count": null,
   "id": "50b7d0b9",
   "metadata": {},
   "outputs": [],
   "source": []
  }
 ],
 "metadata": {
  "kernelspec": {
   "display_name": "base",
   "language": "python",
   "name": "python3"
  },
  "language_info": {
   "codemirror_mode": {
    "name": "ipython",
    "version": 3
   },
   "file_extension": ".py",
   "mimetype": "text/x-python",
   "name": "python",
   "nbconvert_exporter": "python",
   "pygments_lexer": "ipython3",
   "version": "3.11.5"
  }
 },
 "nbformat": 4,
 "nbformat_minor": 5
}
